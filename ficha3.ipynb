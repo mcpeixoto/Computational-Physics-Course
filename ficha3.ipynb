{
 "cells": [
  {
   "cell_type": "code",
   "execution_count": 2,
   "metadata": {},
   "outputs": [],
   "source": [
    "import matplotlib.pyplot as plt\n",
    "import numpy as np\n",
    "from numpy import sqrt, sin\n",
    "from __future__ import print_function\n",
    "from ipywidgets import interact, interactive, fixed, interact_manual\n",
    "import ipywidgets as widgets\n",
    "import matplotlib.pyplot as plt, random\n",
    "from mpl_toolkits.mplot3d import Axes3D\n",
    "import pandas as pd\n",
    "from copy import copy\n",
    "%matplotlib inline"
   ]
  },
  {
   "cell_type": "markdown",
   "metadata": {},
   "source": [
    "## Ex 2"
   ]
  },
  {
   "cell_type": "code",
   "execution_count": 4,
   "metadata": {},
   "outputs": [],
   "source": [
    "def diagonalsup(a,b):  \n",
    "    l=len(a[1])\n",
    "    for k in range(0,l): \n",
    "        for i in range(k+1,l,1):\n",
    "            # guarda-se o primeiro elemento não nulo de cada linha\n",
    "            c=a[i][k] \n",
    "            for j in range(k,l,1):\n",
    "                # subtrai-se a linha i as linhas abaixo de i \n",
    "                # de forma a anular o primeiro elemento não nulo de cada linha\n",
    "                a[i][j]=a[i][j]-c*((a[k][j])/a[k][k])\n",
    "            b[i]=b[i]-c*b[k]/a[k][k]\n",
    "            \n",
    "    return(a,b)\n",
    "\n",
    "# retro-substituição\n",
    "def metodo1(a,b):  \n",
    "  a,b=diagonalsup(a,b)\n",
    "  x=[]\n",
    "  # b fica só um array (em vez de um array de arrays)\n",
    "  b=b.flatten()\n",
    "  dim=len(a)\n",
    "  # calcula-se o último resultado diretamente da divisão\n",
    "  xx=b[dim-1]/(a[dim-1][dim-1])\n",
    "  x.append(xx)\n",
    "\n",
    "  # calculam-se os restantes resultados do fim para o início\n",
    "  # substituindo sempre os resultados já obtidos na linha anterior\n",
    "  # isto é, percorre-se a matriz de baixo para cima.\n",
    "  for i in range(dim-2,-1,-1):\n",
    "      y=0\n",
    "      for k in range(i+1,dim):\n",
    "          y+=a[i][k]*x[dim-1-k]\n",
    "      xx=(1/a[i][i])*(b[i]-y)\n",
    "      x.append(xx)\n",
    "  #x[0] é a ultíma soluçao (ou seja começa na última e acaba na primeira)\n",
    "  # Mostrar os resultados\n",
    "  print(\"Results:\")\n",
    "  x.reverse()\n",
    "  for k in [f\"\\ta{i} = {x[i]}\" for i in range(len(x))]:\n",
    "      print(k)\n"
   ]
  },
  {
   "cell_type": "code",
   "execution_count": 3,
   "metadata": {},
   "outputs": [],
   "source": [
    "k1 = k3 = k4 = k = 10\n",
    "k2 = k5 = 2 * k\n",
    "\n",
    "w2 = w = 50\n",
    "w1 = w3 = 2 * w\n",
    "\n",
    "a = np.array([\n",
    "    [k1+k2+k3+k5,   -k3,        k5],\n",
    "    [-k3,           k3+k4,      -k4],\n",
    "    [-k5,           -k4,        k4+k5]\n",
    "])\n",
    "\n",
    "b = np.array([w1, w2, w3])"
   ]
  },
  {
   "cell_type": "code",
   "execution_count": 5,
   "metadata": {},
   "outputs": [
    {
     "name": "stdout",
     "output_type": "stream",
     "text": [
      "Results:\n",
      "\ta0 = 0.6648745519713263\n",
      "\ta1 = 5.602150537634409\n",
      "\ta2 = 5.806451612903226\n"
     ]
    }
   ],
   "source": [
    "metodo1(a, b)"
   ]
  },
  {
   "cell_type": "code",
   "execution_count": null,
   "metadata": {},
   "outputs": [],
   "source": []
  }
 ],
 "metadata": {
  "interpreter": {
   "hash": "767d51c1340bd893661ea55ea3124f6de3c7a262a8b4abca0554b478b1e2ff90"
  },
  "kernelspec": {
   "display_name": "Python 3.8.10 64-bit",
   "name": "python3"
  },
  "language_info": {
   "codemirror_mode": {
    "name": "ipython",
    "version": 3
   },
   "file_extension": ".py",
   "mimetype": "text/x-python",
   "name": "python",
   "nbconvert_exporter": "python",
   "pygments_lexer": "ipython3",
   "version": "3.8.10"
  },
  "orig_nbformat": 4
 },
 "nbformat": 4,
 "nbformat_minor": 2
}
