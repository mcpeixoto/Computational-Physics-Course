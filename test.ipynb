{
 "cells": [
  {
   "cell_type": "code",
   "execution_count": 20,
   "metadata": {},
   "outputs": [
    {
     "name": "stdout",
     "output_type": "stream",
     "text": [
      "[3.7254902  3.43137255 2.74509804 2.25490196 1.56862745 1.2745098 ]\n"
     ]
    }
   ],
   "source": [
    "from __future__ import division, print_function\n",
    "from os import sys\n",
    "sys.path.append('cpresources')\n",
    "from numpy.linalg import solve\n",
    "from numpy import  array, empty, zeros\n",
    "\n",
    "from banded import banded\n",
    "\n",
    "# Test with 6 elements\n",
    "\n",
    "N = 6\n",
    "U = 5\n",
    "\n",
    "A = array([\n",
    "\t[3, -1, -1, 0, 0, 0],\n",
    "\t[-1, 4, -1, -1, 0, 0],\n",
    "\t[-1,-1, 4, -1, -1, 0],\n",
    "\t[0, -1,-1, 4, -1, -1],\n",
    "\t[0, 0, -1,-1, 4, -1],\n",
    "\t[0, 0, 0, -1, -1, 3]\n",
    "],float)\n",
    "\n",
    "v = array([U, U, 0, 0, 0, 0],float)\n",
    "\n",
    "x = solve(A,v)\n",
    "print(x)\n",
    "\n",
    "# Banded example\n",
    "\n",
    "#N = 10000\n",
    "Ab = empty((5,N),float)\n",
    "vb = zeros(N,float)\n",
    "\n",
    "vb[[0,1]] = U\n",
    "\n",
    "Ab[:,:] = -1\n",
    "Ab[2,:] = 4\n",
    "Ab[2,0] = 3\n",
    "Ab[2,N-1] = 3"
   ]
  },
  {
   "cell_type": "code",
   "execution_count": 22,
   "metadata": {},
   "outputs": [
    {
     "data": {
      "text/plain": [
       "array([[ 3., -1., -1.,  0.,  0.,  0.],\n",
       "       [-1.,  4., -1., -1.,  0.,  0.],\n",
       "       [-1., -1.,  4., -1., -1.,  0.],\n",
       "       [ 0., -1., -1.,  4., -1., -1.],\n",
       "       [ 0.,  0., -1., -1.,  4., -1.],\n",
       "       [ 0.,  0.,  0., -1., -1.,  3.]])"
      ]
     },
     "execution_count": 22,
     "metadata": {},
     "output_type": "execute_result"
    }
   ],
   "source": [
    "A"
   ]
  },
  {
   "cell_type": "code",
   "execution_count": 43,
   "metadata": {},
   "outputs": [
    {
     "name": "stdout",
     "output_type": "stream",
     "text": [
      "[[ 0.  0. -1. -1. -1. -1.]\n",
      " [ 0. -1. -1. -1. -1. -1.]\n",
      " [ 3.  4.  4.  4.  4.  3.]\n",
      " [-1. -1. -1. -1. -1.  1.]\n",
      " [-1. -1. -1. -1.  1.  1.]]\n"
     ]
    }
   ],
   "source": [
    "up = 2\n",
    "down = 2\n",
    "n = A.shape[0]\n",
    "\n",
    "banded_matrix = np.ones((1+up+down, n))\n",
    "\n",
    "for i in range(n):\n",
    "    middle = int(n/2-1)\n",
    "    # Diagonal\n",
    "    banded_matrix[middle,i] = A[i,i]\n",
    "\n",
    "    # Upper\n",
    "    for j in range(1,up+1):\n",
    "        try:\n",
    "            banded_matrix[middle+j,i] = A[i+j,i]\n",
    "        except:            \n",
    "            pass\n",
    "        \n",
    "    \n",
    "    # Lower\n",
    "    for j in range(1,down+1):\n",
    "        try:\n",
    "            banded_matrix[middle-j,i] = A[i-j,i]\n",
    "        except:\n",
    "            pass\n",
    "\n",
    "\n",
    "\n",
    "\n",
    "print(banded_matrix)"
   ]
  },
  {
   "cell_type": "code",
   "execution_count": 23,
   "metadata": {},
   "outputs": [
    {
     "data": {
      "text/plain": [
       "array([[-1., -1., -1., -1., -1., -1.],\n",
       "       [-1., -1., -1., -1., -1., -1.],\n",
       "       [ 3.,  4.,  4.,  4.,  4.,  3.],\n",
       "       [-1., -1., -1., -1., -1., -1.],\n",
       "       [-1., -1., -1., -1., -1., -1.]])"
      ]
     },
     "execution_count": 23,
     "metadata": {},
     "output_type": "execute_result"
    }
   ],
   "source": [
    "Ab"
   ]
  },
  {
   "cell_type": "code",
   "execution_count": 21,
   "metadata": {},
   "outputs": [
    {
     "data": {
      "text/plain": [
       "array([3.7254902 , 3.43137255, 2.74509804, 2.25490196, 1.56862745,\n",
       "       1.2745098 ])"
      ]
     },
     "execution_count": 21,
     "metadata": {},
     "output_type": "execute_result"
    }
   ],
   "source": [
    "banded(Ab, vb, 2, 2)"
   ]
  },
  {
   "cell_type": "code",
   "execution_count": 12,
   "metadata": {},
   "outputs": [
    {
     "data": {
      "text/plain": [
       "array([5., 5., 0., ..., 0., 0., 0.])"
      ]
     },
     "execution_count": 12,
     "metadata": {},
     "output_type": "execute_result"
    }
   ],
   "source": [
    "vb"
   ]
  },
  {
   "cell_type": "code",
   "execution_count": 13,
   "metadata": {},
   "outputs": [
    {
     "data": {
      "text/plain": [
       "array([[ 3., -1., -1.,  0.,  0.,  0.],\n",
       "       [-1.,  4., -1., -1.,  0.,  0.],\n",
       "       [-1., -1.,  4., -1., -1.,  0.],\n",
       "       [ 0., -1., -1.,  4., -1., -1.],\n",
       "       [ 0.,  0., -1., -1.,  4., -1.],\n",
       "       [ 0.,  0.,  0., -1., -1.,  3.]])"
      ]
     },
     "execution_count": 13,
     "metadata": {},
     "output_type": "execute_result"
    }
   ],
   "source": [
    "A"
   ]
  },
  {
   "cell_type": "code",
   "execution_count": 17,
   "metadata": {},
   "outputs": [
    {
     "data": {
      "text/plain": [
       "array([[-1., -1., -1., ..., -1., -1., -1.],\n",
       "       [-1., -1., -1., ..., -1., -1., -1.],\n",
       "       [ 3.,  4.,  4., ...,  4.,  4.,  3.],\n",
       "       [-1., -1., -1., ..., -1., -1., -1.],\n",
       "       [-1., -1., -1., ..., -1., -1., -1.]])"
      ]
     },
     "execution_count": 17,
     "metadata": {},
     "output_type": "execute_result"
    }
   ],
   "source": [
    "Ab"
   ]
  },
  {
   "cell_type": "code",
   "execution_count": 16,
   "metadata": {},
   "outputs": [
    {
     "data": {
      "text/plain": [
       "array([nan, nan, nan, nan, nan, nan])"
      ]
     },
     "execution_count": 16,
     "metadata": {},
     "output_type": "execute_result"
    }
   ],
   "source": [
    "banded(A, v, 1, 1)"
   ]
  },
  {
   "cell_type": "code",
   "execution_count": 7,
   "metadata": {},
   "outputs": [],
   "source": [
    "import numpy as np\n",
    "\n",
    "def definir_sistema(N=26, C=1, m=1, k=6, w=2):\n",
    "  # alpha\n",
    "  a=2*k-m*w**2\n",
    "  # Construção da matriz solução\n",
    "  solucao=np.empty([N],dtype=np.float64)\n",
    "  solucao[0]=C\n",
    "  for i in range(1,N):\n",
    "    solucao[i]=0\n",
    "\n",
    "  ## Construção matriz do sistema\n",
    "  # Inicializar a zeros\n",
    "  matriz=np.zeros([N,N],dtype=np.float64)\n",
    "\n",
    "  # Primeiro peso\n",
    "  matriz[0][0]=a-k\n",
    "  matriz[0][1]=-k\n",
    "\n",
    "  # Ultimo peso\n",
    "  matriz[-1][-1]=a-k\n",
    "  matriz[-1][-2]=-k\n",
    "\n",
    "  # Pesos restantes\n",
    "  for i in range(1,N-1):\n",
    "    matriz[i][i]=a\n",
    "    matriz[i][i-1]=-k\n",
    "    matriz[i][i+1]=-k\n",
    "  return matriz, solucao "
   ]
  },
  {
   "cell_type": "code",
   "execution_count": 10,
   "metadata": {},
   "outputs": [
    {
     "data": {
      "text/plain": [
       "array([nan, nan, nan, nan, nan, nan, nan, nan, nan, nan, nan, nan, nan,\n",
       "       nan, nan, nan, nan, nan, nan, nan, nan, nan, nan, nan, nan, nan,\n",
       "       nan, nan, nan, nan, nan, nan, nan, nan, nan, nan, nan, nan, nan,\n",
       "       nan, nan, nan, nan, nan, nan, nan, nan, nan, nan, nan, nan, nan,\n",
       "       nan, nan, nan, nan, nan, nan, nan, nan, nan, nan, nan, nan, nan,\n",
       "       nan, nan, nan, nan, nan, nan, nan, nan, nan, nan, nan, nan, nan,\n",
       "       nan, nan, nan, nan, nan, nan, nan, nan, nan, nan, nan, nan, nan,\n",
       "       nan, nan, nan, nan, nan, nan, nan, nan, nan])"
      ]
     },
     "execution_count": 10,
     "metadata": {},
     "output_type": "execute_result"
    }
   ],
   "source": [
    "matriz, solucao = definir_sistema(N=int(1e2))\n",
    "\n",
    "banded(matriz, solucao, 1,1)"
   ]
  },
  {
   "cell_type": "code",
   "execution_count": null,
   "metadata": {},
   "outputs": [],
   "source": []
  }
 ],
 "metadata": {
  "interpreter": {
   "hash": "767d51c1340bd893661ea55ea3124f6de3c7a262a8b4abca0554b478b1e2ff90"
  },
  "kernelspec": {
   "display_name": "Python 3.8.10 64-bit",
   "name": "python3"
  },
  "language_info": {
   "codemirror_mode": {
    "name": "ipython",
    "version": 3
   },
   "file_extension": ".py",
   "mimetype": "text/x-python",
   "name": "python",
   "nbconvert_exporter": "python",
   "pygments_lexer": "ipython3",
   "version": "3.8.10"
  },
  "orig_nbformat": 4
 },
 "nbformat": 4,
 "nbformat_minor": 2
}
