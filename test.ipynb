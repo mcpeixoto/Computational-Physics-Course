{
 "cells": [
  {
   "cell_type": "code",
   "execution_count": 1,
   "metadata": {},
   "outputs": [],
   "source": [
    "import numpy as np\n",
    "from numpy.random import rand\n",
    "from itertools import permutations"
   ]
  },
  {
   "cell_type": "code",
   "execution_count": null,
   "metadata": {},
   "outputs": [],
   "source": [
    "def biggest_number_on_diagonal(matrix, results):\n",
    "    every_permutation = permutations([i for i in range(matrix.shape[0])])\n",
    "\n",
    "    best_trace = 0\n",
    "    best_permutation = None\n",
    "\n",
    "    for permutation in every_permutation:\n",
    "        new_matrix = np.ones(matrix.shape)\n",
    "\n",
    "        for i,idx in enumerate(permutation):\n",
    "            new_matrix[i] = matrix[idx]\n",
    "\n",
    "        trace = np.trace(np.abs(new_matrix))\n",
    "        if trace > best_trace:\n",
    "            best_permutation = permutation\n",
    "\n",
    "    # Now that we have the best permutation possible \n",
    "    new_matrix = np.ones(matrix.shape)\n",
    "    new_results = np.ones(results.shape)\n",
    "    for i,idx in enumerate(best_permutation):\n",
    "        new_matrix[i] = matrix[idx]\n",
    "        new_results[i] = results[idx]\n",
    "\n",
    "    print(\"Original Matrix:\\n\", matrix, results)\n",
    "    print(\"New Matrix:\\n\", new_matrix, new_results)\n",
    "\n",
    "    return new_matrix, new_results\n",
    "\n",
    "        \n",
    "    "
   ]
  },
  {
   "cell_type": "code",
   "execution_count": null,
   "metadata": {},
   "outputs": [],
   "source": []
  },
  {
   "cell_type": "code",
   "execution_count": null,
   "metadata": {},
   "outputs": [],
   "source": [
    "dim = 6\n",
    "\n",
    "print(biggest_number_on_diagonal(rand(dim, dim), rand(dim)))"
   ]
  }
 ],
 "metadata": {
  "interpreter": {
   "hash": "767d51c1340bd893661ea55ea3124f6de3c7a262a8b4abca0554b478b1e2ff90"
  },
  "kernelspec": {
   "display_name": "Python 3.8.10 64-bit",
   "name": "python3"
  },
  "language_info": {
   "codemirror_mode": {
    "name": "ipython",
    "version": 3
   },
   "file_extension": ".py",
   "mimetype": "text/x-python",
   "name": "python",
   "nbconvert_exporter": "python",
   "pygments_lexer": "ipython3",
   "version": "3.8.10"
  },
  "orig_nbformat": 4
 },
 "nbformat": 4,
 "nbformat_minor": 2
}
