{
  "nbformat": 4,
  "nbformat_minor": 0,
  "metadata": {
    "colab": {
      "name": "Ex7-FC.ipynb",
      "provenance": [],
      "collapsed_sections": []
    },
    "kernelspec": {
      "display_name": "Python 3",
      "name": "python3"
    },
    "language_info": {
      "name": "python"
    },
    "widgets": {
      "application/vnd.jupyter.widget-state+json": {
        "09536f119c634f6abbbcdc6d861fae95": {
          "model_module": "@jupyter-widgets/controls",
          "model_name": "VBoxModel",
          "model_module_version": "1.5.0",
          "state": {
            "_view_name": "VBoxView",
            "_dom_classes": [
              "widget-interact"
            ],
            "_model_name": "VBoxModel",
            "_view_module": "@jupyter-widgets/controls",
            "_model_module_version": "1.5.0",
            "_view_count": null,
            "_view_module_version": "1.5.0",
            "box_style": "",
            "layout": "IPY_MODEL_d4a7df215ce64763beb85da16fc75606",
            "_model_module": "@jupyter-widgets/controls",
            "children": [
              "IPY_MODEL_126894fe345f461a9dac8bd3276e4dd1",
              "IPY_MODEL_f53233caee0e44e890a96f59f1879a16",
              "IPY_MODEL_f58b16fc414d44c3bf86f7b66b328c3e"
            ]
          }
        },
        "d4a7df215ce64763beb85da16fc75606": {
          "model_module": "@jupyter-widgets/base",
          "model_name": "LayoutModel",
          "model_module_version": "1.2.0",
          "state": {
            "_view_name": "LayoutView",
            "grid_template_rows": null,
            "right": null,
            "justify_content": null,
            "_view_module": "@jupyter-widgets/base",
            "overflow": null,
            "_model_module_version": "1.2.0",
            "_view_count": null,
            "flex_flow": null,
            "width": null,
            "min_width": null,
            "border": null,
            "align_items": null,
            "bottom": null,
            "_model_module": "@jupyter-widgets/base",
            "top": null,
            "grid_column": null,
            "overflow_y": null,
            "overflow_x": null,
            "grid_auto_flow": null,
            "grid_area": null,
            "grid_template_columns": null,
            "flex": null,
            "_model_name": "LayoutModel",
            "justify_items": null,
            "grid_row": null,
            "max_height": null,
            "align_content": null,
            "visibility": null,
            "align_self": null,
            "height": null,
            "min_height": null,
            "padding": null,
            "grid_auto_rows": null,
            "grid_gap": null,
            "max_width": null,
            "order": null,
            "_view_module_version": "1.2.0",
            "grid_template_areas": null,
            "object_position": null,
            "object_fit": null,
            "grid_auto_columns": null,
            "margin": null,
            "display": null,
            "left": null
          }
        },
        "126894fe345f461a9dac8bd3276e4dd1": {
          "model_module": "@jupyter-widgets/controls",
          "model_name": "IntSliderModel",
          "model_module_version": "1.5.0",
          "state": {
            "_view_name": "IntSliderView",
            "style": "IPY_MODEL_2ebe70215760495ab8928e6de6c13304",
            "_dom_classes": [],
            "description": "terms",
            "step": 1,
            "_model_name": "IntSliderModel",
            "orientation": "horizontal",
            "max": 105,
            "_view_module": "@jupyter-widgets/controls",
            "_model_module_version": "1.5.0",
            "value": 53,
            "_view_count": null,
            "disabled": false,
            "_view_module_version": "1.5.0",
            "min": 1,
            "continuous_update": true,
            "readout_format": "d",
            "description_tooltip": null,
            "readout": true,
            "_model_module": "@jupyter-widgets/controls",
            "layout": "IPY_MODEL_f0f112c6e63b4c108af41aab778382e7"
          }
        },
        "f53233caee0e44e890a96f59f1879a16": {
          "model_module": "@jupyter-widgets/controls",
          "model_name": "IntSliderModel",
          "model_module_version": "1.5.0",
          "state": {
            "_view_name": "IntSliderView",
            "style": "IPY_MODEL_558c10d7b13d44a0b101e7c9b8058e9e",
            "_dom_classes": [],
            "description": "max_x",
            "step": 1,
            "_model_name": "IntSliderModel",
            "orientation": "horizontal",
            "max": 30,
            "_view_module": "@jupyter-widgets/controls",
            "_model_module_version": "1.5.0",
            "value": 15,
            "_view_count": null,
            "disabled": false,
            "_view_module_version": "1.5.0",
            "min": 1,
            "continuous_update": true,
            "readout_format": "d",
            "description_tooltip": null,
            "readout": true,
            "_model_module": "@jupyter-widgets/controls",
            "layout": "IPY_MODEL_ca91fa58b1f5491bb2bc498aabad2846"
          }
        },
        "f58b16fc414d44c3bf86f7b66b328c3e": {
          "model_module": "@jupyter-widgets/output",
          "model_name": "OutputModel",
          "model_module_version": "1.0.0",
          "state": {
            "_view_name": "OutputView",
            "msg_id": "",
            "_dom_classes": [],
            "_model_name": "OutputModel",
            "outputs": [
              {
                "output_type": "display_data",
                "data": {
                  "image/png": "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\n",
                  "text/plain": "<Figure size 720x504 with 2 Axes>"
                },
                "metadata": {
                  "needs_background": "light"
                }
              },
              {
                "output_type": "display_data",
                "data": {
                  "text/plain": "()"
                },
                "metadata": {}
              }
            ],
            "_view_module": "@jupyter-widgets/output",
            "_model_module_version": "1.0.0",
            "_view_count": null,
            "_view_module_version": "1.0.0",
            "layout": "IPY_MODEL_98c2f08e9fbb49da9c6036977672ec87",
            "_model_module": "@jupyter-widgets/output"
          }
        },
        "2ebe70215760495ab8928e6de6c13304": {
          "model_module": "@jupyter-widgets/controls",
          "model_name": "SliderStyleModel",
          "model_module_version": "1.5.0",
          "state": {
            "_view_name": "StyleView",
            "handle_color": null,
            "_model_name": "SliderStyleModel",
            "description_width": "",
            "_view_module": "@jupyter-widgets/base",
            "_model_module_version": "1.5.0",
            "_view_count": null,
            "_view_module_version": "1.2.0",
            "_model_module": "@jupyter-widgets/controls"
          }
        },
        "f0f112c6e63b4c108af41aab778382e7": {
          "model_module": "@jupyter-widgets/base",
          "model_name": "LayoutModel",
          "model_module_version": "1.2.0",
          "state": {
            "_view_name": "LayoutView",
            "grid_template_rows": null,
            "right": null,
            "justify_content": null,
            "_view_module": "@jupyter-widgets/base",
            "overflow": null,
            "_model_module_version": "1.2.0",
            "_view_count": null,
            "flex_flow": null,
            "width": null,
            "min_width": null,
            "border": null,
            "align_items": null,
            "bottom": null,
            "_model_module": "@jupyter-widgets/base",
            "top": null,
            "grid_column": null,
            "overflow_y": null,
            "overflow_x": null,
            "grid_auto_flow": null,
            "grid_area": null,
            "grid_template_columns": null,
            "flex": null,
            "_model_name": "LayoutModel",
            "justify_items": null,
            "grid_row": null,
            "max_height": null,
            "align_content": null,
            "visibility": null,
            "align_self": null,
            "height": null,
            "min_height": null,
            "padding": null,
            "grid_auto_rows": null,
            "grid_gap": null,
            "max_width": null,
            "order": null,
            "_view_module_version": "1.2.0",
            "grid_template_areas": null,
            "object_position": null,
            "object_fit": null,
            "grid_auto_columns": null,
            "margin": null,
            "display": null,
            "left": null
          }
        },
        "558c10d7b13d44a0b101e7c9b8058e9e": {
          "model_module": "@jupyter-widgets/controls",
          "model_name": "SliderStyleModel",
          "model_module_version": "1.5.0",
          "state": {
            "_view_name": "StyleView",
            "handle_color": null,
            "_model_name": "SliderStyleModel",
            "description_width": "",
            "_view_module": "@jupyter-widgets/base",
            "_model_module_version": "1.5.0",
            "_view_count": null,
            "_view_module_version": "1.2.0",
            "_model_module": "@jupyter-widgets/controls"
          }
        },
        "ca91fa58b1f5491bb2bc498aabad2846": {
          "model_module": "@jupyter-widgets/base",
          "model_name": "LayoutModel",
          "model_module_version": "1.2.0",
          "state": {
            "_view_name": "LayoutView",
            "grid_template_rows": null,
            "right": null,
            "justify_content": null,
            "_view_module": "@jupyter-widgets/base",
            "overflow": null,
            "_model_module_version": "1.2.0",
            "_view_count": null,
            "flex_flow": null,
            "width": null,
            "min_width": null,
            "border": null,
            "align_items": null,
            "bottom": null,
            "_model_module": "@jupyter-widgets/base",
            "top": null,
            "grid_column": null,
            "overflow_y": null,
            "overflow_x": null,
            "grid_auto_flow": null,
            "grid_area": null,
            "grid_template_columns": null,
            "flex": null,
            "_model_name": "LayoutModel",
            "justify_items": null,
            "grid_row": null,
            "max_height": null,
            "align_content": null,
            "visibility": null,
            "align_self": null,
            "height": null,
            "min_height": null,
            "padding": null,
            "grid_auto_rows": null,
            "grid_gap": null,
            "max_width": null,
            "order": null,
            "_view_module_version": "1.2.0",
            "grid_template_areas": null,
            "object_position": null,
            "object_fit": null,
            "grid_auto_columns": null,
            "margin": null,
            "display": null,
            "left": null
          }
        },
        "98c2f08e9fbb49da9c6036977672ec87": {
          "model_module": "@jupyter-widgets/base",
          "model_name": "LayoutModel",
          "model_module_version": "1.2.0",
          "state": {
            "_view_name": "LayoutView",
            "grid_template_rows": null,
            "right": null,
            "justify_content": null,
            "_view_module": "@jupyter-widgets/base",
            "overflow": null,
            "_model_module_version": "1.2.0",
            "_view_count": null,
            "flex_flow": null,
            "width": null,
            "min_width": null,
            "border": null,
            "align_items": null,
            "bottom": null,
            "_model_module": "@jupyter-widgets/base",
            "top": null,
            "grid_column": null,
            "overflow_y": null,
            "overflow_x": null,
            "grid_auto_flow": null,
            "grid_area": null,
            "grid_template_columns": null,
            "flex": null,
            "_model_name": "LayoutModel",
            "justify_items": null,
            "grid_row": null,
            "max_height": null,
            "align_content": null,
            "visibility": null,
            "align_self": null,
            "height": null,
            "min_height": null,
            "padding": null,
            "grid_auto_rows": null,
            "grid_gap": null,
            "max_width": null,
            "order": null,
            "_view_module_version": "1.2.0",
            "grid_template_areas": null,
            "object_position": null,
            "object_fit": null,
            "grid_auto_columns": null,
            "margin": null,
            "display": null,
            "left": null
          }
        },
        "38005c172fe24c7f94e0e65b54964746": {
          "model_module": "@jupyter-widgets/controls",
          "model_name": "VBoxModel",
          "model_module_version": "1.5.0",
          "state": {
            "_view_name": "VBoxView",
            "_dom_classes": [
              "widget-interact"
            ],
            "_model_name": "VBoxModel",
            "_view_module": "@jupyter-widgets/controls",
            "_model_module_version": "1.5.0",
            "_view_count": null,
            "_view_module_version": "1.5.0",
            "box_style": "",
            "layout": "IPY_MODEL_7460a28b67184f51adb7862450487c1a",
            "_model_module": "@jupyter-widgets/controls",
            "children": [
              "IPY_MODEL_87a9b0bfb1bf41158d61d3d15e866c5b",
              "IPY_MODEL_3d86cdff1415447a842fe1a836dd4f79",
              "IPY_MODEL_668f1ceb54a84118beb7a5fc9e53d27d"
            ]
          }
        },
        "7460a28b67184f51adb7862450487c1a": {
          "model_module": "@jupyter-widgets/base",
          "model_name": "LayoutModel",
          "model_module_version": "1.2.0",
          "state": {
            "_view_name": "LayoutView",
            "grid_template_rows": null,
            "right": null,
            "justify_content": null,
            "_view_module": "@jupyter-widgets/base",
            "overflow": null,
            "_model_module_version": "1.2.0",
            "_view_count": null,
            "flex_flow": null,
            "width": null,
            "min_width": null,
            "border": null,
            "align_items": null,
            "bottom": null,
            "_model_module": "@jupyter-widgets/base",
            "top": null,
            "grid_column": null,
            "overflow_y": null,
            "overflow_x": null,
            "grid_auto_flow": null,
            "grid_area": null,
            "grid_template_columns": null,
            "flex": null,
            "_model_name": "LayoutModel",
            "justify_items": null,
            "grid_row": null,
            "max_height": null,
            "align_content": null,
            "visibility": null,
            "align_self": null,
            "height": null,
            "min_height": null,
            "padding": null,
            "grid_auto_rows": null,
            "grid_gap": null,
            "max_width": null,
            "order": null,
            "_view_module_version": "1.2.0",
            "grid_template_areas": null,
            "object_position": null,
            "object_fit": null,
            "grid_auto_columns": null,
            "margin": null,
            "display": null,
            "left": null
          }
        },
        "87a9b0bfb1bf41158d61d3d15e866c5b": {
          "model_module": "@jupyter-widgets/controls",
          "model_name": "IntSliderModel",
          "model_module_version": "1.5.0",
          "state": {
            "_view_name": "IntSliderView",
            "style": "IPY_MODEL_e007a750652144f1a22333269500f633",
            "_dom_classes": [],
            "description": "terms",
            "step": 1,
            "_model_name": "IntSliderModel",
            "orientation": "horizontal",
            "max": 67,
            "_view_module": "@jupyter-widgets/controls",
            "_model_module_version": "1.5.0",
            "value": 34,
            "_view_count": null,
            "disabled": false,
            "_view_module_version": "1.5.0",
            "min": 1,
            "continuous_update": true,
            "readout_format": "d",
            "description_tooltip": null,
            "readout": true,
            "_model_module": "@jupyter-widgets/controls",
            "layout": "IPY_MODEL_516468862b084df79114ccba84d6f95b"
          }
        },
        "3d86cdff1415447a842fe1a836dd4f79": {
          "model_module": "@jupyter-widgets/controls",
          "model_name": "IntSliderModel",
          "model_module_version": "1.5.0",
          "state": {
            "_view_name": "IntSliderView",
            "style": "IPY_MODEL_25aa5343b10f4009b066457260f2e29a",
            "_dom_classes": [],
            "description": "max_x",
            "step": 1,
            "_model_name": "IntSliderModel",
            "orientation": "horizontal",
            "max": 30,
            "_view_module": "@jupyter-widgets/controls",
            "_model_module_version": "1.5.0",
            "value": 15,
            "_view_count": null,
            "disabled": false,
            "_view_module_version": "1.5.0",
            "min": 1,
            "continuous_update": true,
            "readout_format": "d",
            "description_tooltip": null,
            "readout": true,
            "_model_module": "@jupyter-widgets/controls",
            "layout": "IPY_MODEL_4b8319889f0e437781d5edd0889f75bb"
          }
        },
        "668f1ceb54a84118beb7a5fc9e53d27d": {
          "model_module": "@jupyter-widgets/output",
          "model_name": "OutputModel",
          "model_module_version": "1.0.0",
          "state": {
            "_view_name": "OutputView",
            "msg_id": "",
            "_dom_classes": [],
            "_model_name": "OutputModel",
            "outputs": [
              {
                "output_type": "display_data",
                "data": {
                  "image/png": "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\n",
                  "text/plain": "<Figure size 720x504 with 2 Axes>"
                },
                "metadata": {
                  "needs_background": "light"
                }
              },
              {
                "output_type": "display_data",
                "data": {
                  "text/plain": "()"
                },
                "metadata": {}
              }
            ],
            "_view_module": "@jupyter-widgets/output",
            "_model_module_version": "1.0.0",
            "_view_count": null,
            "_view_module_version": "1.0.0",
            "layout": "IPY_MODEL_82bc9a7c1aac48c49a75795da56ddf0d",
            "_model_module": "@jupyter-widgets/output"
          }
        },
        "e007a750652144f1a22333269500f633": {
          "model_module": "@jupyter-widgets/controls",
          "model_name": "SliderStyleModel",
          "model_module_version": "1.5.0",
          "state": {
            "_view_name": "StyleView",
            "handle_color": null,
            "_model_name": "SliderStyleModel",
            "description_width": "",
            "_view_module": "@jupyter-widgets/base",
            "_model_module_version": "1.5.0",
            "_view_count": null,
            "_view_module_version": "1.2.0",
            "_model_module": "@jupyter-widgets/controls"
          }
        },
        "516468862b084df79114ccba84d6f95b": {
          "model_module": "@jupyter-widgets/base",
          "model_name": "LayoutModel",
          "model_module_version": "1.2.0",
          "state": {
            "_view_name": "LayoutView",
            "grid_template_rows": null,
            "right": null,
            "justify_content": null,
            "_view_module": "@jupyter-widgets/base",
            "overflow": null,
            "_model_module_version": "1.2.0",
            "_view_count": null,
            "flex_flow": null,
            "width": null,
            "min_width": null,
            "border": null,
            "align_items": null,
            "bottom": null,
            "_model_module": "@jupyter-widgets/base",
            "top": null,
            "grid_column": null,
            "overflow_y": null,
            "overflow_x": null,
            "grid_auto_flow": null,
            "grid_area": null,
            "grid_template_columns": null,
            "flex": null,
            "_model_name": "LayoutModel",
            "justify_items": null,
            "grid_row": null,
            "max_height": null,
            "align_content": null,
            "visibility": null,
            "align_self": null,
            "height": null,
            "min_height": null,
            "padding": null,
            "grid_auto_rows": null,
            "grid_gap": null,
            "max_width": null,
            "order": null,
            "_view_module_version": "1.2.0",
            "grid_template_areas": null,
            "object_position": null,
            "object_fit": null,
            "grid_auto_columns": null,
            "margin": null,
            "display": null,
            "left": null
          }
        },
        "25aa5343b10f4009b066457260f2e29a": {
          "model_module": "@jupyter-widgets/controls",
          "model_name": "SliderStyleModel",
          "model_module_version": "1.5.0",
          "state": {
            "_view_name": "StyleView",
            "handle_color": null,
            "_model_name": "SliderStyleModel",
            "description_width": "",
            "_view_module": "@jupyter-widgets/base",
            "_model_module_version": "1.5.0",
            "_view_count": null,
            "_view_module_version": "1.2.0",
            "_model_module": "@jupyter-widgets/controls"
          }
        },
        "4b8319889f0e437781d5edd0889f75bb": {
          "model_module": "@jupyter-widgets/base",
          "model_name": "LayoutModel",
          "model_module_version": "1.2.0",
          "state": {
            "_view_name": "LayoutView",
            "grid_template_rows": null,
            "right": null,
            "justify_content": null,
            "_view_module": "@jupyter-widgets/base",
            "overflow": null,
            "_model_module_version": "1.2.0",
            "_view_count": null,
            "flex_flow": null,
            "width": null,
            "min_width": null,
            "border": null,
            "align_items": null,
            "bottom": null,
            "_model_module": "@jupyter-widgets/base",
            "top": null,
            "grid_column": null,
            "overflow_y": null,
            "overflow_x": null,
            "grid_auto_flow": null,
            "grid_area": null,
            "grid_template_columns": null,
            "flex": null,
            "_model_name": "LayoutModel",
            "justify_items": null,
            "grid_row": null,
            "max_height": null,
            "align_content": null,
            "visibility": null,
            "align_self": null,
            "height": null,
            "min_height": null,
            "padding": null,
            "grid_auto_rows": null,
            "grid_gap": null,
            "max_width": null,
            "order": null,
            "_view_module_version": "1.2.0",
            "grid_template_areas": null,
            "object_position": null,
            "object_fit": null,
            "grid_auto_columns": null,
            "margin": null,
            "display": null,
            "left": null
          }
        },
        "82bc9a7c1aac48c49a75795da56ddf0d": {
          "model_module": "@jupyter-widgets/base",
          "model_name": "LayoutModel",
          "model_module_version": "1.2.0",
          "state": {
            "_view_name": "LayoutView",
            "grid_template_rows": null,
            "right": null,
            "justify_content": null,
            "_view_module": "@jupyter-widgets/base",
            "overflow": null,
            "_model_module_version": "1.2.0",
            "_view_count": null,
            "flex_flow": null,
            "width": null,
            "min_width": null,
            "border": null,
            "align_items": null,
            "bottom": null,
            "_model_module": "@jupyter-widgets/base",
            "top": null,
            "grid_column": null,
            "overflow_y": null,
            "overflow_x": null,
            "grid_auto_flow": null,
            "grid_area": null,
            "grid_template_columns": null,
            "flex": null,
            "_model_name": "LayoutModel",
            "justify_items": null,
            "grid_row": null,
            "max_height": null,
            "align_content": null,
            "visibility": null,
            "align_self": null,
            "height": null,
            "min_height": null,
            "padding": null,
            "grid_auto_rows": null,
            "grid_gap": null,
            "max_width": null,
            "order": null,
            "_view_module_version": "1.2.0",
            "grid_template_areas": null,
            "object_position": null,
            "object_fit": null,
            "grid_auto_columns": null,
            "margin": null,
            "display": null,
            "left": null
          }
        },
        "df13675f41ec451c9e402c18ed05f3c0": {
          "model_module": "@jupyter-widgets/controls",
          "model_name": "VBoxModel",
          "model_module_version": "1.5.0",
          "state": {
            "_view_name": "VBoxView",
            "_dom_classes": [
              "widget-interact"
            ],
            "_model_name": "VBoxModel",
            "_view_module": "@jupyter-widgets/controls",
            "_model_module_version": "1.5.0",
            "_view_count": null,
            "_view_module_version": "1.5.0",
            "box_style": "",
            "layout": "IPY_MODEL_0fd23dc537334a979d5b4f8c59454bdc",
            "_model_module": "@jupyter-widgets/controls",
            "children": [
              "IPY_MODEL_8d3fed2ddafa4aa2b8e318435751c4bc",
              "IPY_MODEL_65878c4865884e6b8c66d190b5f3c62a",
              "IPY_MODEL_2faa8561f5884e5d9b0e71a54bd4f0c1"
            ]
          }
        },
        "0fd23dc537334a979d5b4f8c59454bdc": {
          "model_module": "@jupyter-widgets/base",
          "model_name": "LayoutModel",
          "model_module_version": "1.2.0",
          "state": {
            "_view_name": "LayoutView",
            "grid_template_rows": null,
            "right": null,
            "justify_content": null,
            "_view_module": "@jupyter-widgets/base",
            "overflow": null,
            "_model_module_version": "1.2.0",
            "_view_count": null,
            "flex_flow": null,
            "width": null,
            "min_width": null,
            "border": null,
            "align_items": null,
            "bottom": null,
            "_model_module": "@jupyter-widgets/base",
            "top": null,
            "grid_column": null,
            "overflow_y": null,
            "overflow_x": null,
            "grid_auto_flow": null,
            "grid_area": null,
            "grid_template_columns": null,
            "flex": null,
            "_model_name": "LayoutModel",
            "justify_items": null,
            "grid_row": null,
            "max_height": null,
            "align_content": null,
            "visibility": null,
            "align_self": null,
            "height": null,
            "min_height": null,
            "padding": null,
            "grid_auto_rows": null,
            "grid_gap": null,
            "max_width": null,
            "order": null,
            "_view_module_version": "1.2.0",
            "grid_template_areas": null,
            "object_position": null,
            "object_fit": null,
            "grid_auto_columns": null,
            "margin": null,
            "display": null,
            "left": null
          }
        },
        "8d3fed2ddafa4aa2b8e318435751c4bc": {
          "model_module": "@jupyter-widgets/controls",
          "model_name": "IntSliderModel",
          "model_module_version": "1.5.0",
          "state": {
            "_view_name": "IntSliderView",
            "style": "IPY_MODEL_fcc4f3ce172840b0b76a1b601d9d4d63",
            "_dom_classes": [],
            "description": "terms",
            "step": 1,
            "_model_name": "IntSliderModel",
            "orientation": "horizontal",
            "max": 105,
            "_view_module": "@jupyter-widgets/controls",
            "_model_module_version": "1.5.0",
            "value": 31,
            "_view_count": null,
            "disabled": false,
            "_view_module_version": "1.5.0",
            "min": 1,
            "continuous_update": true,
            "readout_format": "d",
            "description_tooltip": null,
            "readout": true,
            "_model_module": "@jupyter-widgets/controls",
            "layout": "IPY_MODEL_4b06bf4649284aba96d8d742f4c68192"
          }
        },
        "65878c4865884e6b8c66d190b5f3c62a": {
          "model_module": "@jupyter-widgets/controls",
          "model_name": "IntSliderModel",
          "model_module_version": "1.5.0",
          "state": {
            "_view_name": "IntSliderView",
            "style": "IPY_MODEL_c8e9b3f8c98744e4b03ae315af448b53",
            "_dom_classes": [],
            "description": "max_x",
            "step": 1,
            "_model_name": "IntSliderModel",
            "orientation": "horizontal",
            "max": 30,
            "_view_module": "@jupyter-widgets/controls",
            "_model_module_version": "1.5.0",
            "value": 15,
            "_view_count": null,
            "disabled": false,
            "_view_module_version": "1.5.0",
            "min": 1,
            "continuous_update": true,
            "readout_format": "d",
            "description_tooltip": null,
            "readout": true,
            "_model_module": "@jupyter-widgets/controls",
            "layout": "IPY_MODEL_884125be2bb54ff9aea08cbf4f12220e"
          }
        },
        "2faa8561f5884e5d9b0e71a54bd4f0c1": {
          "model_module": "@jupyter-widgets/output",
          "model_name": "OutputModel",
          "model_module_version": "1.0.0",
          "state": {
            "_view_name": "OutputView",
            "msg_id": "",
            "_dom_classes": [],
            "_model_name": "OutputModel",
            "outputs": [
              {
                "output_type": "display_data",
                "data": {
                  "image/png": "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\n",
                  "text/plain": "<Figure size 720x504 with 2 Axes>"
                },
                "metadata": {
                  "needs_background": "light"
                }
              },
              {
                "output_type": "display_data",
                "data": {
                  "text/plain": "()"
                },
                "metadata": {}
              }
            ],
            "_view_module": "@jupyter-widgets/output",
            "_model_module_version": "1.0.0",
            "_view_count": null,
            "_view_module_version": "1.0.0",
            "layout": "IPY_MODEL_c0b8d31b00bc41fe9e961db38f77597e",
            "_model_module": "@jupyter-widgets/output"
          }
        },
        "fcc4f3ce172840b0b76a1b601d9d4d63": {
          "model_module": "@jupyter-widgets/controls",
          "model_name": "SliderStyleModel",
          "model_module_version": "1.5.0",
          "state": {
            "_view_name": "StyleView",
            "handle_color": null,
            "_model_name": "SliderStyleModel",
            "description_width": "",
            "_view_module": "@jupyter-widgets/base",
            "_model_module_version": "1.5.0",
            "_view_count": null,
            "_view_module_version": "1.2.0",
            "_model_module": "@jupyter-widgets/controls"
          }
        },
        "4b06bf4649284aba96d8d742f4c68192": {
          "model_module": "@jupyter-widgets/base",
          "model_name": "LayoutModel",
          "model_module_version": "1.2.0",
          "state": {
            "_view_name": "LayoutView",
            "grid_template_rows": null,
            "right": null,
            "justify_content": null,
            "_view_module": "@jupyter-widgets/base",
            "overflow": null,
            "_model_module_version": "1.2.0",
            "_view_count": null,
            "flex_flow": null,
            "width": null,
            "min_width": null,
            "border": null,
            "align_items": null,
            "bottom": null,
            "_model_module": "@jupyter-widgets/base",
            "top": null,
            "grid_column": null,
            "overflow_y": null,
            "overflow_x": null,
            "grid_auto_flow": null,
            "grid_area": null,
            "grid_template_columns": null,
            "flex": null,
            "_model_name": "LayoutModel",
            "justify_items": null,
            "grid_row": null,
            "max_height": null,
            "align_content": null,
            "visibility": null,
            "align_self": null,
            "height": null,
            "min_height": null,
            "padding": null,
            "grid_auto_rows": null,
            "grid_gap": null,
            "max_width": null,
            "order": null,
            "_view_module_version": "1.2.0",
            "grid_template_areas": null,
            "object_position": null,
            "object_fit": null,
            "grid_auto_columns": null,
            "margin": null,
            "display": null,
            "left": null
          }
        },
        "c8e9b3f8c98744e4b03ae315af448b53": {
          "model_module": "@jupyter-widgets/controls",
          "model_name": "SliderStyleModel",
          "model_module_version": "1.5.0",
          "state": {
            "_view_name": "StyleView",
            "handle_color": null,
            "_model_name": "SliderStyleModel",
            "description_width": "",
            "_view_module": "@jupyter-widgets/base",
            "_model_module_version": "1.5.0",
            "_view_count": null,
            "_view_module_version": "1.2.0",
            "_model_module": "@jupyter-widgets/controls"
          }
        },
        "884125be2bb54ff9aea08cbf4f12220e": {
          "model_module": "@jupyter-widgets/base",
          "model_name": "LayoutModel",
          "model_module_version": "1.2.0",
          "state": {
            "_view_name": "LayoutView",
            "grid_template_rows": null,
            "right": null,
            "justify_content": null,
            "_view_module": "@jupyter-widgets/base",
            "overflow": null,
            "_model_module_version": "1.2.0",
            "_view_count": null,
            "flex_flow": null,
            "width": null,
            "min_width": null,
            "border": null,
            "align_items": null,
            "bottom": null,
            "_model_module": "@jupyter-widgets/base",
            "top": null,
            "grid_column": null,
            "overflow_y": null,
            "overflow_x": null,
            "grid_auto_flow": null,
            "grid_area": null,
            "grid_template_columns": null,
            "flex": null,
            "_model_name": "LayoutModel",
            "justify_items": null,
            "grid_row": null,
            "max_height": null,
            "align_content": null,
            "visibility": null,
            "align_self": null,
            "height": null,
            "min_height": null,
            "padding": null,
            "grid_auto_rows": null,
            "grid_gap": null,
            "max_width": null,
            "order": null,
            "_view_module_version": "1.2.0",
            "grid_template_areas": null,
            "object_position": null,
            "object_fit": null,
            "grid_auto_columns": null,
            "margin": null,
            "display": null,
            "left": null
          }
        },
        "c0b8d31b00bc41fe9e961db38f77597e": {
          "model_module": "@jupyter-widgets/base",
          "model_name": "LayoutModel",
          "model_module_version": "1.2.0",
          "state": {
            "_view_name": "LayoutView",
            "grid_template_rows": null,
            "right": null,
            "justify_content": null,
            "_view_module": "@jupyter-widgets/base",
            "overflow": null,
            "_model_module_version": "1.2.0",
            "_view_count": null,
            "flex_flow": null,
            "width": null,
            "min_width": null,
            "border": null,
            "align_items": null,
            "bottom": null,
            "_model_module": "@jupyter-widgets/base",
            "top": null,
            "grid_column": null,
            "overflow_y": null,
            "overflow_x": null,
            "grid_auto_flow": null,
            "grid_area": null,
            "grid_template_columns": null,
            "flex": null,
            "_model_name": "LayoutModel",
            "justify_items": null,
            "grid_row": null,
            "max_height": null,
            "align_content": null,
            "visibility": null,
            "align_self": null,
            "height": null,
            "min_height": null,
            "padding": null,
            "grid_auto_rows": null,
            "grid_gap": null,
            "max_width": null,
            "order": null,
            "_view_module_version": "1.2.0",
            "grid_template_areas": null,
            "object_position": null,
            "object_fit": null,
            "grid_auto_columns": null,
            "margin": null,
            "display": null,
            "left": null
          }
        }
      }
    }
  },
  "cells": [
    {
      "cell_type": "markdown",
      "metadata": {
        "id": "a0_YJGUAHPbd"
      },
      "source": [
        "# **Ficha 1 - Exercício 7**\n",
        "## Realizado pelos alunos da licenciatura em Engenharia Física:\n",
        "### Maria Gabriela Oliveira, A92841;\n",
        "### Miguel Caçador Peixoto, A92838;\n",
        "\n",
        "\n",
        "\n",
        "\n",
        "\n",
        "\n",
        "##### 18 de outubro de 2021"
      ]
    },
    {
      "cell_type": "markdown",
      "metadata": {
        "id": "QRjiFEfTAj7_"
      },
      "source": [
        "## Sabendo que $e^{-x}$ $\\approx$ 1 - $x$ + $\\frac{x^2}{2!}$ - $\\frac{x^3}{3!}$ + ... + $\\frac{x^n}{n!}$, calcule  $e^{-x}$ para $x$ = 0,1; 1; 10; 15; 30 requerendo que o erro numérico seja inferior a uma parte em $10^8$ e compare os valores obtidos com os calculados através da função *numpy.exp()*. Represente graficamente a função para $x$ ∈ [0, 30].\n",
        "\n",
        "\n",
        "Note-se que como alguns valores de $e^{-x}$, para $x$ ∈ [0, 30], são inferiores a $10^{-8}$, assumiu-se que o erro numérico referido acima é um erro relativo. Caso contrário para $x$s grandes o erro exigido não faria qualquer sentido nem garantia fiabilidade nos valores obtidos."
      ]
    },
    {
      "cell_type": "markdown",
      "metadata": {
        "id": "doXhnv2LMcP6"
      },
      "source": [
        "### **MÉTODO 1**\n",
        "Calculou-se o exponencial de $-x$ de acordo com a série enunciada acima.\n",
        "\n",
        "De modo a a garantir um erro númerico inferior a $10^{-8}$ definiu-se a função *erro*. Esta calcula o número de termos necessários na série para que o erro seja inferior ao desejado."
      ]
    },
    {
      "cell_type": "code",
      "metadata": {
        "id": "DETe_wmmHLIZ"
      },
      "source": [
        "import numpy as np\n",
        "import math\n",
        "\n",
        "# Calculo do exponencial\n",
        "def exponencial(x,n):\n",
        "    expo=0\n",
        "    for i in range(n):\n",
        "        e = ((-x)**i)/(np.math.factorial(i))\n",
        "        expo+=e\n",
        "    return expo \n",
        "\n",
        "# Erro\n",
        "def erro(x, precisao=10**(-8)):\n",
        "    # Se n fosse igual a 1, para x igual 1 existia uma indeterminação.\n",
        "    n = 2\n",
        "    # Enquanto a precisão requirida não for alcançada,\n",
        "    # iremos adicionar mais um termo.\n",
        "    while (abs(exponencial(x,n+1)-exponencial(x,n))/abs(exponencial(x,n+1)))>=precisao:\n",
        "        n += 1\n",
        "    return n+1 "
      ],
      "execution_count": null,
      "outputs": []
    },
    {
      "cell_type": "code",
      "metadata": {
        "colab": {
          "base_uri": "https://localhost:8080/"
        },
        "id": "uhrqgx3XvGFN",
        "outputId": "8a05d081-58db-4bb9-fe23-cdbc15bd4e31"
      },
      "source": [
        "to_compute = [0.1, 1, 10, 15, 30]\n",
        "\n",
        "print(\"-> METODO 1\")\n",
        "for i in to_compute:\n",
        "  print(\"-\"*10)\n",
        "  print(f'Exponencial de {i}:\\t', exponencial(i,erro(i)))\n",
        "  print(\"Nº de termos:\\t\\t\", erro(i))\n",
        "  print('Função pré-definida:\\t', np.exp(-i))"
      ],
      "execution_count": null,
      "outputs": [
        {
          "output_type": "stream",
          "name": "stdout",
          "text": [
            "-> METODO 1\n",
            "----------\n",
            "Exponencial de 0.1:\t 0.9048374180555556\n",
            "Nº de termos:\t\t 7\n",
            "Função pré-definida:\t 0.9048374180359595\n",
            "----------\n",
            "Exponencial de 1:\t 0.3678794413212817\n",
            "Nº de termos:\t\t 13\n",
            "Função pré-definida:\t 0.36787944117144233\n",
            "----------\n",
            "Exponencial de 10:\t 4.53999293667452e-05\n",
            "Nº de termos:\t\t 48\n",
            "Função pré-definida:\t 4.5399929762484854e-05\n",
            "----------\n",
            "Exponencial de 15:\t 3.0593423678230343e-07\n",
            "Nº de termos:\t\t 67\n",
            "Função pré-definida:\t 3.059023205018258e-07\n",
            "----------\n",
            "Exponencial de 30:\t -8.553016424646994e-05\n",
            "Nº de termos:\t\t 105\n",
            "Função pré-definida:\t 9.357622968840175e-14\n"
          ]
        }
      ]
    },
    {
      "cell_type": "markdown",
      "metadata": {
        "id": "AlNlKdBbNXOc"
      },
      "source": [
        "### Explorando a função..."
      ]
    },
    {
      "cell_type": "code",
      "metadata": {
        "colab": {
          "base_uri": "https://localhost:8080/",
          "height": 613,
          "referenced_widgets": [
            "09536f119c634f6abbbcdc6d861fae95",
            "d4a7df215ce64763beb85da16fc75606",
            "126894fe345f461a9dac8bd3276e4dd1",
            "f53233caee0e44e890a96f59f1879a16",
            "f58b16fc414d44c3bf86f7b66b328c3e",
            "2ebe70215760495ab8928e6de6c13304",
            "f0f112c6e63b4c108af41aab778382e7",
            "558c10d7b13d44a0b101e7c9b8058e9e",
            "ca91fa58b1f5491bb2bc498aabad2846",
            "98c2f08e9fbb49da9c6036977672ec87"
          ]
        },
        "id": "PplOmG5zMj_N",
        "outputId": "4f5123b6-b355-4498-95cb-ce3dc9cea0f0"
      },
      "source": [
        "from __future__ import print_function\n",
        "from ipywidgets import interact, interactive, fixed, interact_manual\n",
        "import ipywidgets as widgets\n",
        "import matplotlib.pyplot as plt, random\n",
        "\n",
        "def iteractive_plot(terms, max_x):\n",
        "    fig, ax = plt.subplots(figsize=(10,7))\n",
        "\n",
        "    # Get x\n",
        "    x = np.linspace(0, max_x, num=1000)\n",
        "\n",
        "    # Get the values of our function and plot it\n",
        "    y = [exponencial(i, terms) for i in x]\n",
        "    ax.plot(x, y, label=\"Aproximated exponential\")\n",
        "\n",
        "    # Get the values from the numpy function and plot it\n",
        "    y_real = [np.exp(-i) for i in x]\n",
        "    ax.plot(x, y_real, label=\"Exponential\", color='g')\n",
        "    plt.legend(loc='upper left')\n",
        "    ax.set_ylabel('e^(-x)')\n",
        "\n",
        "    # Plot the error\n",
        "    ax_err = ax.twinx()\n",
        "    ax_err.set_ylabel('Error')\n",
        "    y_error = [abs((y[i]-y_real[i])/y_real[i]) for i in range(len(x))]\n",
        "    ax_err.plot(x, y_error, label=\"Error\", color='r', alpha=0.3)\n",
        "    plt.axhline(y=10**(-8),label=\"reference\", color='gray')\n",
        "    ax_err.set_yscale('log')\n",
        "    fig.tight_layout()\n",
        "    plt.legend(loc='upper right')\n",
        "\n",
        "    return()\n",
        "\n",
        "    \n",
        "interact(iteractive_plot, terms=(1,105,1), max_x=(1,30,1))"
      ],
      "execution_count": null,
      "outputs": [
        {
          "output_type": "display_data",
          "data": {
            "application/vnd.jupyter.widget-view+json": {
              "model_id": "09536f119c634f6abbbcdc6d861fae95",
              "version_minor": 0,
              "version_major": 2
            },
            "text/plain": [
              "interactive(children=(IntSlider(value=53, description='terms', max=105, min=1), IntSlider(value=15, descriptio…"
            ]
          },
          "metadata": {}
        },
        {
          "output_type": "execute_result",
          "data": {
            "text/plain": [
              "<function __main__.iteractive_plot>"
            ]
          },
          "metadata": {},
          "execution_count": 15
        }
      ]
    },
    {
      "cell_type": "markdown",
      "metadata": {
        "id": "y0-RBklCeoNf"
      },
      "source": [
        "Olhando para o gráfico acima, com ambos os cursores no máximo ($x$ ∈ [0, 30] e o número de termos que supostamente garante um erro númerico inferior a $10^{-8}$ que é de 105) podem-se analisar os seguintes pontos:\n",
        "\n",
        "\n",
        "1.   O gráfico da exponecial definida pelo método 1 e a fornecida pelo numpy são equivalentes em termos de morfologia.\n",
        "2.   O erro (linha vermelha), definido como o módulo da diferença entre a função definida pelo método 1 e a fornecida pelo numpy, apresenta \"ruído\". Este ruído deve-se ao facto dos erros serem valores relativamente pequenos e a escala utilizada ser logaritmica. Quando se tenta computar o logaritmo de um valor próximo de 0, há alguns problemas que se traduzem neste ruído.\n",
        "3.   Não se conseguiu garantir o erro numérico desejado para valores de x superiores a aproximadamente 20 (olhar à intersecção da linha de referência com a linha do erro). A explicação deste problema é um pouco mais complexa uma vez que implica conhecimento do conceito de perda de significância (ou cancelamento catastrófico), por este motivo será feita abaixo.\n",
        "\n",
        "\n",
        "As máquinas representam todos os numéros numa sequência de dígitos em base binária (1 e 0). Muitas frações decimais não podem ser representadas exatamente como frações binárias. Assim, o que realmente se utiliza são aproximações do valor decimal em causa. Estas aproximações são muito pequenas e em casos isolados podem parecer insignificantes. No entanto, tal como no caso deste problema, quando se fazem operações com números decimais estas aproximações acumulam e geram erros associados maiores (face ao valor real). Este problema pode ser visualido abaixo. Como 0.1 é a apenas uma aproximação (segundo a máquina), 0.1+0.1+0.1 para a máquina não corresponde a 0.3, mas na base decimal essa correspondência é claramente verdadeira.\n",
        "\n",
        "Para além deste problema, como a série calculada na função *exponencial* tem não só somas mas também subtrações, existe um outro problema associado conhecido como cancelamento catastrófico. O cancelamento catastrófico (ou perda de significância) é um efeito que ocorre em operações envolvendo aritmética de ponto flutuante, sendo caracterizado por um aumento substancial do erro relativo nos resultados destas. Este tipo de erro acontece quando há a subtração de dois números muito próximos, especialmente se o módulo dos números em causa for grande. \n",
        "\n",
        "Olhando ao gráfico e analisando os resultados, verifica-se que estes problemas contribuem para um impacto substancial e indesejado quando o x é superior a 10.\n",
        "\n",
        "\n"
      ]
    },
    {
      "cell_type": "code",
      "metadata": {
        "colab": {
          "base_uri": "https://localhost:8080/"
        },
        "id": "RMUybi5am20K",
        "outputId": "1a88d08b-332e-4b3d-d4d5-1fa06dd546e9"
      },
      "source": [
        "0.1+0.1+0.1==0.3"
      ],
      "execution_count": null,
      "outputs": [
        {
          "output_type": "execute_result",
          "data": {
            "text/plain": [
              "False"
            ]
          },
          "metadata": {},
          "execution_count": 16
        }
      ]
    },
    {
      "cell_type": "code",
      "metadata": {
        "colab": {
          "base_uri": "https://localhost:8080/"
        },
        "id": "g53GHI_qBuzM",
        "outputId": "69eec09e-2af6-4296-dea1-4c29f2283a29"
      },
      "source": [
        "0.1+0.1+0.1"
      ],
      "execution_count": null,
      "outputs": [
        {
          "output_type": "execute_result",
          "data": {
            "text/plain": [
              "0.30000000000000004"
            ]
          },
          "metadata": {},
          "execution_count": 17
        }
      ]
    },
    {
      "cell_type": "markdown",
      "metadata": {
        "id": "XSZ-tneaMf6H"
      },
      "source": [
        "## **METODO 2**\n",
        "Calculou-se o exponencial de  x  de acordo com a série $e^{x}$ $\\approx$ 1 + $x$ + $\\frac{x^2}{2!}$ + $\\frac{x^3}{3!}$ + ...  + $\\frac{x^n}{n!}$ e depois fez-se o inverso do resultado, de modo a obter $e^{-x}$.\n",
        "\n",
        "De modo a a garantir um erro númerico inferior a  $10^{−8}$  definiu-se a função *erro_improved*, similar à função *erro*."
      ]
    },
    {
      "cell_type": "code",
      "metadata": {
        "id": "wpaBWpj8IO2L"
      },
      "source": [
        "import numpy as np\n",
        "import math\n",
        "\n",
        "# Calculo do exponencial\n",
        "def exponencial_improved(x,n):\n",
        "    expo=0\n",
        "    for i in range(n):\n",
        "        e = (x**i)/(np.math.factorial(i))\n",
        "        expo+=e\n",
        "    return 1/expo \n",
        "\n",
        "#Erro\n",
        "def erro_improved(x, precisao=10**(-8)):\n",
        "    n = 1\n",
        "    # Enquanto a precisão requirida não for alcançada,\n",
        "    # iremos adicionar mais um termo.\n",
        "    while (abs(exponencial_improved(x,n+1)-exponencial_improved(x,n))/abs(exponencial_improved(x,n+1)))>=precisao:\n",
        "        n += 1\n",
        "    return n+1"
      ],
      "execution_count": null,
      "outputs": []
    },
    {
      "cell_type": "code",
      "metadata": {
        "colab": {
          "base_uri": "https://localhost:8080/"
        },
        "id": "doYRi1ScwCtP",
        "outputId": "3127f997-466b-4b86-9fe1-27b9a8b5ca07"
      },
      "source": [
        "to_compute = [0.1, 1, 10, 15, 30]\n",
        "\n",
        "print(\"-> METODO 2\")\n",
        "for i in to_compute:\n",
        "  print(\"-\"*10)\n",
        "  print(f'Exponencial de {i}:\\t', exponencial_improved(i,erro_improved(i)))\n",
        "  print(\"Nº de termos:\\t\\t\", erro_improved(i))\n",
        "  print('Função pré-definida:\\t', np.exp(-i))"
      ],
      "execution_count": null,
      "outputs": [
        {
          "output_type": "stream",
          "name": "stdout",
          "text": [
            "-> METODO 2\n",
            "----------\n",
            "Exponencial de 0.1:\t 0.9048374180524097\n",
            "Nº de termos:\t\t 7\n",
            "Função pré-definida:\t 0.9048374180359595\n",
            "----------\n",
            "Exponencial de 1:\t 0.36787944147737484\n",
            "Nº de termos:\t\t 12\n",
            "Função pré-definida:\t 0.36787944117144233\n",
            "----------\n",
            "Exponencial de 10:\t 4.53999298598132e-05\n",
            "Nº de termos:\t\t 34\n",
            "Função pré-definida:\t 4.5399929762484854e-05\n",
            "----------\n",
            "Exponencial de 15:\t 3.05902321373904e-07\n",
            "Nº de termos:\t\t 43\n",
            "Função pré-definida:\t 3.059023205018258e-07\n",
            "----------\n",
            "Exponencial de 30:\t 9.357623008335511e-14\n",
            "Nº de termos:\t\t 67\n",
            "Função pré-definida:\t 9.357622968840175e-14\n"
          ]
        }
      ]
    },
    {
      "cell_type": "markdown",
      "metadata": {
        "id": "k6k2icYbNaDZ"
      },
      "source": [
        "### Explorando a função..."
      ]
    },
    {
      "cell_type": "code",
      "metadata": {
        "colab": {
          "base_uri": "https://localhost:8080/",
          "height": 613,
          "referenced_widgets": [
            "38005c172fe24c7f94e0e65b54964746",
            "7460a28b67184f51adb7862450487c1a",
            "87a9b0bfb1bf41158d61d3d15e866c5b",
            "3d86cdff1415447a842fe1a836dd4f79",
            "668f1ceb54a84118beb7a5fc9e53d27d",
            "e007a750652144f1a22333269500f633",
            "516468862b084df79114ccba84d6f95b",
            "25aa5343b10f4009b066457260f2e29a",
            "4b8319889f0e437781d5edd0889f75bb",
            "82bc9a7c1aac48c49a75795da56ddf0d"
          ]
        },
        "id": "rZHBQqhqNRvc",
        "outputId": "574b27ba-f374-448f-9bb8-0f465c6410aa"
      },
      "source": [
        "from __future__ import print_function\n",
        "from ipywidgets import interact, interactive, fixed, interact_manual\n",
        "import ipywidgets as widgets\n",
        "import matplotlib.pyplot as plt, random\n",
        "import numpy as np\n",
        "def iteractive_plot(terms, max_x):\n",
        "    fig, ax = plt.subplots(figsize=(10,7))\n",
        "\n",
        "    # Get x\n",
        "    x = np.linspace(0, max_x, num=1000)\n",
        "\n",
        "    # Get the values of our function and plot it\n",
        "    y = [exponencial_improved(i, terms) for i in x]\n",
        "    ax.plot(x, y, label=\"Aproximated exponential\")\n",
        "\n",
        "    # Get the values from the numpy function and plot it\n",
        "    y_real = [np.exp(-i) for i in x]\n",
        "    ax.plot(x, y_real, label=\"Exponential\", color='g')\n",
        "    plt.legend(loc='upper left')\n",
        "    ax.set_ylabel('e^(-x)')\n",
        "\n",
        "    # Plot the error\n",
        "    ax_err = ax.twinx()\n",
        "    ax_err.set_ylabel('Error')\n",
        "    y_error = [abs((y[i]-y_real[i])/y_real[i]) for i in range(len(x))]\n",
        "    ax_err.plot(x, y_error, label=\"Error\", color='r', alpha=0.3)\n",
        "    plt.axhline(y=10**(-8),label=\"reference\", color='gray')\n",
        "    ax_err.set_yscale('log')\n",
        "    fig.tight_layout()\n",
        "    plt.legend(loc='upper right')\n",
        "\n",
        "    return()\n",
        "\n",
        "    \n",
        "interact(iteractive_plot, terms=(1,67,1), max_x=(1,30,1))"
      ],
      "execution_count": null,
      "outputs": [
        {
          "output_type": "display_data",
          "data": {
            "application/vnd.jupyter.widget-view+json": {
              "model_id": "38005c172fe24c7f94e0e65b54964746",
              "version_minor": 0,
              "version_major": 2
            },
            "text/plain": [
              "interactive(children=(IntSlider(value=34, description='terms', max=67, min=1), IntSlider(value=15, description…"
            ]
          },
          "metadata": {}
        },
        {
          "output_type": "execute_result",
          "data": {
            "text/plain": [
              "<function __main__.iteractive_plot>"
            ]
          },
          "metadata": {},
          "execution_count": 20
        }
      ]
    },
    {
      "cell_type": "markdown",
      "metadata": {
        "id": "h2X2pt34qFm3"
      },
      "source": [
        "Olhando para o gráfico acima, com ambos os cursores no máximo ($x$ ∈ [0, 30] e o número de termos que supostamente garante um erro númerico inferior a $10^{-8}$ que é de 67) podem-se analisar os seguintes pontos:\n",
        "\n",
        "\n",
        "1.   O gráfico da exponecial definida pelo método 2 e a fornecida pelo numpy são equivalentes tanto em termos de morfologia como de valores (erro muito pequeno).\n",
        "2.   O erro (linha vermelha) apresenta \"ruído\" ainda maior, uma vez que o erro aqui é ainda mais pequeno (mais próximo de 0).\n",
        "3.   Conseguiu-se garantir o erro inferior ao desejado para todos os pontos. Similarmente à explicação para o método 1, ao fazer-se uma série com apenas somas (e não subtrações), os erros associados ao cancelamento catastrófico deixam de se fazer sentir de forma tão acentuada. Daí, para este caso, os resultados são muitos melhores e mais fiavéis.\n",
        "\n",
        "\n",
        "\n",
        "\n"
      ]
    },
    {
      "cell_type": "markdown",
      "metadata": {
        "id": "0NPRS-EmN-nC"
      },
      "source": [
        "## **METODO 1 vs METODO 2 vs NUMPY**\n",
        "\n",
        "Comparando as várias funções"
      ]
    },
    {
      "cell_type": "code",
      "metadata": {
        "colab": {
          "base_uri": "https://localhost:8080/",
          "height": 613,
          "referenced_widgets": [
            "df13675f41ec451c9e402c18ed05f3c0",
            "0fd23dc537334a979d5b4f8c59454bdc",
            "8d3fed2ddafa4aa2b8e318435751c4bc",
            "65878c4865884e6b8c66d190b5f3c62a",
            "2faa8561f5884e5d9b0e71a54bd4f0c1",
            "fcc4f3ce172840b0b76a1b601d9d4d63",
            "4b06bf4649284aba96d8d742f4c68192",
            "c8e9b3f8c98744e4b03ae315af448b53",
            "884125be2bb54ff9aea08cbf4f12220e",
            "c0b8d31b00bc41fe9e961db38f77597e"
          ]
        },
        "id": "qhdJ_1fENm8V",
        "outputId": "437e492a-4f3f-47d9-d79f-3bed4d74538c"
      },
      "source": [
        "from __future__ import print_function\n",
        "from ipywidgets import interact, interactive, fixed, interact_manual\n",
        "import ipywidgets as widgets\n",
        "import matplotlib.pyplot as plt, random\n",
        "\n",
        "def iteractive_plot(terms, max_x):\n",
        "    fig, ax = plt.subplots(figsize=(10,7))\n",
        "\n",
        "    x = np.linspace(0, max_x, num=1000) \n",
        "    y = [exponencial(i, terms) for i in x]\n",
        "    ax.plot(x, y, label=\"Metodo 1\")\n",
        "\n",
        "\n",
        "    y_improved = [exponencial_improved(i, terms) for i in x]\n",
        "    ax.plot(x, y_improved, label=\"Metodo 2\", color='m')\n",
        "\n",
        "\n",
        "    y_real = [np.exp(-i) for i in x]\n",
        "    ax.plot(x, y_real, label=\"Numpy\", color='g')\n",
        "    plt.legend(loc='upper left')\n",
        "\n",
        "    ax.set_ylabel('e^(-x)')\n",
        "\n",
        "    # error\n",
        "    ax_err = ax.twinx()\n",
        "    ax_err.set_ylabel('Error')\n",
        "\n",
        "    y_error = [abs((y[i]-y_real[i])/y_real[i]) for i in range(len(x))]\n",
        "    ax_err.plot(x, y_error, label=\"Erro Metodo 1\", color='r', alpha=0.3)\n",
        "\n",
        "    y_error = [abs((y_improved[i]-y_real[i])/y_real[i]) for i in range(len(x))]\n",
        "    ax_err.plot(x, y_error, label=\"Erro Metodo 2\", color='orange', alpha=0.3)\n",
        "\n",
        "    plt.axhline(y=10**(-8),label=\"reference\",color='gray', alpha=0.3)\n",
        "\n",
        "    ax_err.set_yscale('log')\n",
        "    plt.legend(loc='upper right')\n",
        "    fig.tight_layout()\n",
        "    \n",
        "\n",
        "    return()\n",
        "\n",
        "    \n",
        "interact(iteractive_plot, terms=(1,105,1), max_x=(1,30,1))"
      ],
      "execution_count": null,
      "outputs": [
        {
          "output_type": "display_data",
          "data": {
            "application/vnd.jupyter.widget-view+json": {
              "model_id": "df13675f41ec451c9e402c18ed05f3c0",
              "version_minor": 0,
              "version_major": 2
            },
            "text/plain": [
              "interactive(children=(IntSlider(value=53, description='terms', max=105, min=1), IntSlider(value=15, descriptio…"
            ]
          },
          "metadata": {}
        },
        {
          "output_type": "execute_result",
          "data": {
            "text/plain": [
              "<function __main__.iteractive_plot>"
            ]
          },
          "metadata": {},
          "execution_count": 21
        }
      ]
    },
    {
      "cell_type": "markdown",
      "metadata": {
        "id": "sMViLViuSpz4"
      },
      "source": [
        "Este gráfico não introduz nenhuma conclusão ou análise nova ao trabalho. Apenas é uma outra visualização das soluções encontradas."
      ]
    },
    {
      "cell_type": "markdown",
      "metadata": {
        "id": "o1cR42-syvYU"
      },
      "source": [
        "## Plot da melhor função para $x \\epsilon [0,30]$"
      ]
    },
    {
      "cell_type": "code",
      "metadata": {
        "colab": {
          "base_uri": "https://localhost:8080/",
          "height": 531
        },
        "id": "JQMRpUX_5Vg1",
        "outputId": "bf367689-1bf1-4992-f524-f30ad9c0aa7a"
      },
      "source": [
        "fig, ax = plt.subplots(figsize=(10,7))\n",
        "\n",
        "# Get x\n",
        "x = np.linspace(1, 30, 200)\n",
        "\n",
        "# Get the values of our function and plot it\n",
        "y = [exponencial_improved(i,erro_improved(i)) for i in x]\n",
        "ax.plot(x, y, label=\"Metodo 2\")\n",
        "\n",
        "# Get the values from the numpy function and plot it\n",
        "y_real = [np.exp(-i) for i in x]\n",
        "ax.plot(x, y_real, label=\"Numpy\", color='g')\n",
        "plt.legend(loc='upper left')\n",
        "ax.set_ylabel('e^(-x)')\n",
        "\n",
        "# Plot the error\n",
        "ax_err = ax.twinx()\n",
        "ax_err.set_ylabel('Error')\n",
        "y_error = [abs((y[i]-y_real[i])/y_real[i]) for i in range(len(x))]\n",
        "ax_err.plot(x, y_error, label=\"Error\", color='r', alpha=0.3)\n",
        "\n",
        "\n",
        "plt.axhline(y=10**(-8),label=\"reference\",color='gray', alpha=0.3)\n",
        "\n",
        "ax_err.set_yscale('log')\n",
        "fig.tight_layout()\n",
        "plt.legend(loc='upper right')\n"
      ],
      "execution_count": null,
      "outputs": [
        {
          "output_type": "execute_result",
          "data": {
            "text/plain": [
              "<matplotlib.legend.Legend at 0x7f7426c2b3d0>"
            ]
          },
          "metadata": {},
          "execution_count": 22
        },
        {
          "output_type": "display_data",
          "data": {
            "image/png": "[encoded data removed]",
            "text/plain": [
              "<Figure size 720x504 with 2 Axes>"
            ]
          },
          "metadata": {
            "needs_background": "light"
          }
        }
      ]
    },
    {
      "cell_type": "markdown",
      "metadata": {
        "id": "3pPbdgQuufx-"
      },
      "source": [
        "Neste último caso, e como complemento ao trabalho já realizado, fez-se o gráfico da melhor solução (método 2) mas com uma pequena diferença face aos gráficos anteriores. Neste caso o número de termos não é fixo, mas sim o número mínimo de termos para cada valor de $x$ que garante o erro numérico desejado.\n",
        "Desta forma temos o gráfico do exponencial, usando sempre o numero minimo de termos necessário para garantir o erro requirido em cada ponto. Como podemos ver o erro encontra-se sempre a baixo da linha do erro requirido."
      ]
    },
    {
      "cell_type": "code",
      "metadata": {
        "id": "6JJ0KuYxVJcB"
      },
      "source": [
        ""
      ],
      "execution_count": null,
      "outputs": []
    }
  ]
}