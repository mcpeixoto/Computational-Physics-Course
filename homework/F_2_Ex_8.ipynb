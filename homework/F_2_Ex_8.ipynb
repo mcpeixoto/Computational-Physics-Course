{
  "nbformat": 4,
  "nbformat_minor": 0,
  "metadata": {
    "colab": {
      "name": "Ex8-FC",
      "provenance": [],
      "collapsed_sections": []
    },
    "kernelspec": {
      "name": "python3",
      "display_name": "Python 3"
    },
    "language_info": {
      "name": "python"
    }
  },
  "cells": [
    {
      "cell_type": "code",
      "metadata": {
        "id": "mRPcue5OYAZC"
      },
      "source": [
        "import numpy as np\n",
        "from copy import copy\n",
        "from numpy.random import rand"
      ],
      "execution_count": null,
      "outputs": []
    },
    {
      "cell_type": "markdown",
      "metadata": {
        "id": "xYt51HF8YJkN"
      },
      "source": [
        "# **Ficha 2 - Exercício 8**\n",
        "## Realizado pelos alunos da licenciatura em Engenharia Física:\n",
        "### Maria Gabriela Oliveira, A92841;\n",
        "### Miguel Caçador Peixoto, A92838;\n",
        "\n",
        "\n",
        "\n",
        "\n",
        "\n",
        "\n",
        "##### 1 de novembro de 2021"
      ]
    },
    {
      "cell_type": "markdown",
      "metadata": {
        "id": "MiUv283QYho4"
      },
      "source": [
        "## Método de eliminação de Gauss\n",
        "Implemente um código geral para resolver sistemas lineares de equações\n",
        "usando o método de eliminação de Gauss. Verifique o código comparando\n",
        "com a resolução analítica de:\n",
        "\n",
        "$3x + 2y = 5$\n",
        "\n",
        "$x + y = 3$"
      ]
    },
    {
      "cell_type": "markdown",
      "metadata": {
        "id": "IwbyRusZf_uN"
      },
      "source": [
        "Vamos começar por redefinir o sistema usando 2 matrizes.\n",
        "\n"
      ]
    },
    {
      "cell_type": "code",
      "metadata": {
        "id": "oCbNbizCgKGm"
      },
      "source": [
        "a = np.array([\n",
        "    [3, 2],\n",
        "    [1, 1],\n",
        "    ], dtype=np.float64)\n",
        "\n",
        "b = np.array([\n",
        "    5,3\n",
        "], dtype=np.float64)"
      ],
      "execution_count": null,
      "outputs": []
    },
    {
      "cell_type": "markdown",
      "metadata": {
        "id": "zGjBAeKTYujd"
      },
      "source": [
        "## Primeiro Método \n",
        "Triangular superior e retro-substituição"
      ]
    },
    {
      "cell_type": "code",
      "metadata": {
        "id": "apAwZ6SmrhlY"
      },
      "source": [
        "def diagonalsup(a,b):  \n",
        "    l=len(a[1])\n",
        "    for k in range(0,l): \n",
        "        for i in range(k+1,l,1):\n",
        "            # guarda-se o primeiro elemento não nulo de cada linha\n",
        "            c=a[i][k] \n",
        "            for j in range(k,l,1):\n",
        "                # subtrai-se a linha i as linhas abaixo de i \n",
        "                # de forma a anular o primeiro elemento não nulo de cada linha\n",
        "                a[i][j]=a[i][j]-c*((a[k][j])/a[k][k])\n",
        "            b[i]=b[i]-c*b[k]/a[k][k]\n",
        "            \n",
        "    return(a,b)\n",
        "\n",
        "# retro-substituição\n",
        "def metodo1(a,b):  \n",
        "  a,b=diagonalsup(a,b)\n",
        "  x=[]\n",
        "  # b fica só um array (em vez de um array de arrays)\n",
        "  b=b.flatten()\n",
        "  dim=len(a)\n",
        "  # calcula-se o último resultado diretamente da divisão\n",
        "  xx=b[dim-1]/(a[dim-1][dim-1])\n",
        "  x.append(xx)\n",
        "\n",
        "  # calculam-se os restantes resultados do fim para o início\n",
        "  # substituindo sempre os resultados já obtidos na linha anterior\n",
        "  # isto é, percorre-se a matriz de baixo para cima.\n",
        "  for i in range(dim-2,-1,-1):\n",
        "      y=0\n",
        "      for k in range(i+1,dim):\n",
        "          y+=a[i][k]*x[dim-1-k]\n",
        "      xx=(1/a[i][i])*(b[i]-y)\n",
        "      x.append(xx)\n",
        "  #x[0] é a ultíma soluçao (ou seja começa na última e acaba na primeira)\n",
        "  # Mostrar os resultados\n",
        "  print(\"Results:\")\n",
        "  x.reverse()\n",
        "  for k in [f\"\\ta{i} = {x[i]}\" for i in range(len(x))]:\n",
        "      print(k)\n"
      ],
      "execution_count": null,
      "outputs": []
    },
    {
      "cell_type": "code",
      "metadata": {
        "colab": {
          "base_uri": "https://localhost:8080/"
        },
        "id": "uQDVe-eQe9PD",
        "outputId": "dcdc1951-273a-4c9b-f70e-190fa865bcf4"
      },
      "source": [
        "metodo1(a ,b)"
      ],
      "execution_count": null,
      "outputs": [
        {
          "output_type": "stream",
          "name": "stdout",
          "text": [
            "Results:\n",
            "\ta0 = -0.9999999999999997\n",
            "\ta1 = 3.9999999999999996\n"
          ]
        }
      ]
    },
    {
      "cell_type": "markdown",
      "metadata": {
        "id": "wqhgb0ZUY1PP"
      },
      "source": [
        "## Método 2\n",
        "\n",
        "De modo a resolver o sistema linear também se pode utilizar o método de eliminação de Gauss de uma forma diferente.\n",
        "\n",
        "Este novo algoritmo está dividido em 2 partes:\n",
        "\n",
        "- Na primeira parte iremos fazer várias operações elementares entre as linhas da matriz expandida de modo a obter a matriz triangular superior (tal como no metodo 1).\n",
        "\n",
        "- Mas na segunda parte, em vez de optarmos pela retro-substituição podemos simplesmente continuar a fazer operações elementares entre as linhas na matriz expandida de modo a obter a matriz triangular inferior da matriz triangular superior (ou seja a matriz identidade).\n",
        "\n",
        "Deste modo no final do algoritmo, cada elemento da matriz $b$ irá corresponder a uma solução do sistema inicial, resolve-se efetivamente o sistema.\n",
        "\n"
      ]
    },
    {
      "cell_type": "code",
      "metadata": {
        "id": "64wNzbCiZDvF"
      },
      "source": [
        "def metodo2(matrix, results):\n",
        "  # N será o tamanho da matriz\n",
        "  n = matrix.shape[0]\n",
        "\n",
        "  ## Colocar o triangulo inferior a 0's\n",
        "  # Para cada linha da matriz..\n",
        "  for line in range(n):\n",
        "      # Dividir a linha pelo seu pivot \n",
        "      # de modo a ter a diagonal = 1\n",
        "      pivot = matrix[line][line]\n",
        "      matrix[line] = matrix[line]/pivot\n",
        "      results[line] =  results[line]/pivot\n",
        "\n",
        "      # Para cada uma das linhas por baixo\n",
        "      # do pivot, vamos subtrair à linha\n",
        "      # a linha do nosso pivot * uma constante, \n",
        "      # de modo a que, na coluna do pivot, por baixo deste\n",
        "      # apenas haja zeros\n",
        "      for other_line in range(n-line-1):\n",
        "          # Queremos que no lugar do 'pivot_atual' seja 0\n",
        "          pivot_atual = matrix[other_line+line+1][line]\n",
        "          matrix[other_line+line+1] = matrix[other_line+line+1] - (pivot_atual/1) * matrix[line]\n",
        "          results[other_line+line+1] = results[other_line+line+1] - (pivot_atual/1) * results[line]\n",
        "\n",
        "\n",
        "  ## Colocar o triangulo superior a 0's\n",
        "  # Agora vamos começar de baixo para cima ou seja,\n",
        "  # para cada linha a cima de cada pivot (o 1 na diagonal)\n",
        "  # vamos subtrair a linha atual * uma constante de modo a que\n",
        "  # em cima de cada 1 na diagonal, haja só 0's\n",
        "  for line in range(1, n, 1):\n",
        "      for other_line in range(1, n-line+1, 1):\n",
        "        # Queremos que no lugar do 'pivot_atual' seja 0\n",
        "        pivot_atual =  matrix[-other_line-line][-line]\n",
        "        matrix[-other_line-line] = matrix[-other_line-line] - (pivot_atual) * matrix[-line]\n",
        "        results[-other_line-line] = results[-other_line-line] - (pivot_atual) * results[-line]\n",
        "\n",
        "  \n",
        "  # Sanity check - Vamos ver se no final transformamos completamente\n",
        "  # a nossa matriz original na matriz identidade.\n",
        "  assert (matrix == np.identity(matrix.shape[0])).all(), \"[!] An error occured! Solution is not valid\"\n",
        "\n",
        "  # Mostrar os resultados\n",
        "  print(\"Results:\")\n",
        "  for x in [f\"\\ta{i} = {results[i]}\" for i in range(n)]:\n",
        "      print(x)"
      ],
      "execution_count": null,
      "outputs": []
    },
    {
      "cell_type": "code",
      "metadata": {
        "colab": {
          "base_uri": "https://localhost:8080/"
        },
        "id": "RESegFB-jPF1",
        "outputId": "79652af6-52ea-4d24-f634-173c31a84a03"
      },
      "source": [
        "metodo2(a, b)"
      ],
      "execution_count": null,
      "outputs": [
        {
          "output_type": "stream",
          "name": "stdout",
          "text": [
            "Results:\n",
            "\ta0 = -0.9999999999999993\n",
            "\ta1 = 3.9999999999999996\n"
          ]
        }
      ]
    },
    {
      "cell_type": "markdown",
      "metadata": {
        "id": "fKpS9-BwKta5"
      },
      "source": [
        "Note que a resposta correta para o sistema seria a0 = -1 e a1 = 4. \n",
        "\n",
        "Ambos os metodos não retornam tais valores mas sim, valores que se aproximam destes. Tal acontece pois durante a resolução do sistema linear fazem-se operações das quais resultam numeros impossíveis de serem representados pela máquina com toda a sua precisão (por exemplo 2/3 = 0.(6) que é uma dizima infinita).\n",
        "\n",
        "Podemos rearranjar a matriz de modo a que tal não aconteça. Este rearranjo foi feito com base na resolução analítica do problema. Implementar um algoritmo que rearranjasse uma matriz arbitária de modo a resolver todos os posíveis problemas seria de elevada complexidade e exigeria muito tempo, só para idealizar o processo de resolução. \n",
        "\n",
        "Por exemplo ao trocar as linhas:"
      ]
    },
    {
      "cell_type": "code",
      "metadata": {
        "id": "zqkPLBU1Mwue"
      },
      "source": [
        "a = np.array([\n",
        "    [1, 1],\n",
        "    [3, 2]\n",
        "    ], dtype=np.float64)\n",
        "\n",
        "b = np.array([\n",
        "    3,5\n",
        "], dtype=np.float64)"
      ],
      "execution_count": null,
      "outputs": []
    },
    {
      "cell_type": "code",
      "metadata": {
        "colab": {
          "base_uri": "https://localhost:8080/"
        },
        "id": "KbCvfhQsMyvH",
        "outputId": "74882186-0719-4415-889a-0cbc3bd4bad0"
      },
      "source": [
        "metodo1(a, b)"
      ],
      "execution_count": null,
      "outputs": [
        {
          "output_type": "stream",
          "name": "stdout",
          "text": [
            "Results:\n",
            "\ta0 = -1.0\n",
            "\ta1 = 4.0\n"
          ]
        }
      ]
    },
    {
      "cell_type": "code",
      "metadata": {
        "colab": {
          "base_uri": "https://localhost:8080/"
        },
        "id": "yDp3XmGKMxpM",
        "outputId": "46243849-c6da-4f6d-f963-4ce2be9a78b9"
      },
      "source": [
        "metodo2(a, b)"
      ],
      "execution_count": null,
      "outputs": [
        {
          "output_type": "stream",
          "name": "stdout",
          "text": [
            "Results:\n",
            "\ta0 = -1.0\n",
            "\ta1 = 4.0\n"
          ]
        }
      ]
    },
    {
      "cell_type": "markdown",
      "metadata": {
        "id": "h7EdMdULjpvH"
      },
      "source": [
        "# E para matrizes maiores?\n",
        "Testamos ambos os métodos de novo\n"
      ]
    },
    {
      "cell_type": "code",
      "metadata": {
        "id": "CINsOGV1ju-4"
      },
      "source": [
        "a = np.array([\n",
        "              [2,9,-1],\n",
        "              [-3,-1,2],\n",
        "              [-2,1,2]\n",
        "              ], dtype=np.float64)\n",
        "\n",
        "b = np.array([8,-11,-3], dtype=np.float64)\n"
      ],
      "execution_count": null,
      "outputs": []
    },
    {
      "cell_type": "code",
      "metadata": {
        "colab": {
          "base_uri": "https://localhost:8080/"
        },
        "id": "r5BEa3bTj9NJ",
        "outputId": "474cb385-1f3c-4fe1-cd13-8c57ca87723c"
      },
      "source": [
        "metodo1(a,b)"
      ],
      "execution_count": null,
      "outputs": [
        {
          "output_type": "stream",
          "name": "stdout",
          "text": [
            "Results:\n",
            "\ta0 = 8.4\n",
            "\ta1 = -0.20000000000000004\n",
            "\ta2 = 7.000000000000001\n"
          ]
        }
      ]
    },
    {
      "cell_type": "code",
      "metadata": {
        "colab": {
          "base_uri": "https://localhost:8080/"
        },
        "id": "0-QCULDfj9Ct",
        "outputId": "bac219ed-3b70-4aba-c7b1-be661f50c7f4"
      },
      "source": [
        "metodo2(a,b)"
      ],
      "execution_count": null,
      "outputs": [
        {
          "output_type": "stream",
          "name": "stdout",
          "text": [
            "Results:\n",
            "\ta0 = 8.4\n",
            "\ta1 = -0.2\n",
            "\ta2 = 7.000000000000001\n"
          ]
        }
      ]
    },
    {
      "cell_type": "markdown",
      "metadata": {
        "id": "kWJ-bQazkLnt"
      },
      "source": [
        "# Problemas\n",
        "\n",
        "Para além do problema das dízimas encontrado anteriormente também podemos imaginar alguns problemas que possam surgir na resolução de sistemas lineares:\n",
        "\n",
        "*   Quando algum dos elementos da diagonal da matriz é 0 - trivialmente vamos ter um problema com infinito na solução se simplesmente se aplicarem estes métodos.\n",
        "*   Quando os pivots forem muito pequenos, mesmo não sendo 0, com o acumular de pequenos erros associados às subtrações e divisões teremos também infinitos ou mesmo que os erros não levem ao infinito, levam no mínimo a um número diferente do calculado analíticamente. Isto traduz-se num resultado com um erro númerico associado significativo.\n",
        "\n",
        "\n",
        "De modo a resolver estes problemas definimos duas funções que tentam comutar as linhas da matriz de modo a colocar os maiores números na diagonal da matriz. - O objetivo é rearranjar os sistemas lineares recorrendo a estas funções antes de serem aplicados os métodos referidos acima.\n",
        "\n",
        "A primeira nem sempre garante que o traço é máximo, principalmente para dimensões grandes, mas resolve o problema numa escala de tempo aceitável mesmo para grandes dimensões.\n",
        "\n",
        "A segunda garante sempre o maior traço mas sendo que testa todas as possibilidades de matriz, faz com que o tempo de execução seja muito superior à anterior, principalmente para dimensões grandes (superior a 8).\n",
        "\n",
        "\n",
        "Note que maximizar o traço da matriz não é uma solução para o problema das dizimas infinitas encontrado anteriormente (e não se limita apenas as dizimas, temos por exemplo numeros irracionais como o $\\pi$ onde o mesmo problema surge). Infelizmente, nenhuma solução generalizada e fiável foi encontrada de modo a eliminar este problema.\n",
        "\n"
      ]
    },
    {
      "cell_type": "code",
      "metadata": {
        "id": "ElfhGn6tgsit"
      },
      "source": [
        "def maiortraço(a,b):\n",
        "    dim=len(a)\n",
        "    i=0\n",
        "    # analisa-se a matriz linha a linha, começando pela primeira (0)\n",
        "    while i < dim:\n",
        "      # a lista x guardara todas os valores de comparação para cada linha\n",
        "        x=[]  \n",
        "        j=0\n",
        "        # compara-se todas as trocas de linha face a linha i\n",
        "        while j < dim:\n",
        "          # guarda-se a diferença entre os elementos da diagonal das linhas selecionadas e da diagonal se as linhas estivessem trocadas\n",
        "            x.append((abs(a[i][i])+abs(a[j][j]))-(abs(a[j][i])+abs(a[i][j])))\n",
        "            j=j+1\n",
        "        # escolhe-se a troca que torna o traço maior\n",
        "        # troca que aumenta mais o traço, ou seja que a diferença é \"mais negativa\"\n",
        "        mi=np.min(x)\n",
        "\n",
        "        #faz-se a troca das linhas analisadas acima\n",
        "        if mi<0:\n",
        "            n=np.argmin(x)\n",
        "            c=a[n].copy()\n",
        "            a[n]=a[i]\n",
        "            a[i]=c\n",
        "            d=b[n].copy()\n",
        "            b[n]=b[i]\n",
        "            b[i]=d\n",
        "        # repete-se o problema para a linha seguinte    \n",
        "        i=i+1\n",
        "\n",
        "\n",
        "    return(a,b)\n"
      ],
      "execution_count": null,
      "outputs": []
    },
    {
      "cell_type": "code",
      "metadata": {
        "id": "_c5ZSmGsg2rt"
      },
      "source": [
        "from itertools import permutations\n",
        "def biggest_number_on_diagonal(matrix, results, debug=False):\n",
        "    # Vamos computar todas as permutações de\n",
        "    # linhas possiveis para a dimensão da nossa matriz\n",
        "    every_permutation = permutations([i for i in range(matrix.shape[0])])\n",
        "\n",
        "    # Inicializar variaveis\n",
        "    best_trace = 0\n",
        "    best_permutation = None\n",
        "\n",
        "    # Para cada permutação vamos calcular a sua matriz \n",
        "    # e consequentemente o seu traço. O objetivo é encontrar\n",
        "    # a permutação com o maior traço possivel.\n",
        "    for permutation in every_permutation:\n",
        "        # Inicializar a nova matriz\n",
        "        new_matrix = np.ones(matrix.shape)\n",
        "\n",
        "        trace = 0\n",
        "        # Computar o seu traço\n",
        "        for i,idx in enumerate(permutation):\n",
        "           trace += matrix[idx][i]\n",
        "\n",
        "        # Ver se é o maior traço global\n",
        "        if trace > best_trace:\n",
        "            best_trace = trace\n",
        "            best_permutation = permutation\n",
        "\n",
        "    # Agora que encontramos o maior traço possivel\n",
        "    # basta computar a matriz com o melhor traço\n",
        "    # e retorna-la como output\n",
        "    new_matrix = np.ones(matrix.shape)\n",
        "    new_results = np.ones(results.shape)\n",
        "    for i,idx in enumerate(best_permutation):\n",
        "        new_matrix[i] = matrix[idx]\n",
        "        new_results[i] = results[idx]\n",
        "\n",
        "    if debug:\n",
        "      print(\"Original Matrix:\\n\", matrix, results)\n",
        "      print(\"New Matrix:\\n\", new_matrix, new_results)\n",
        "\n",
        "    return new_matrix, new_results"
      ],
      "execution_count": null,
      "outputs": []
    },
    {
      "cell_type": "code",
      "metadata": {
        "id": "ZlsJRE1GmJVT"
      },
      "source": [
        "dim = 6\n",
        "a = rand(dim, dim)\n",
        "b = rand(dim)\n"
      ],
      "execution_count": null,
      "outputs": []
    },
    {
      "cell_type": "code",
      "metadata": {
        "colab": {
          "base_uri": "https://localhost:8080/"
        },
        "id": "MFe3enVnmrZz",
        "outputId": "39a9609e-b912-4db0-b21f-d37a2a8f58ff"
      },
      "source": [
        "x, y= maiortraço(copy(a), copy(b))\n",
        "np.trace(np.abs(x))"
      ],
      "execution_count": null,
      "outputs": [
        {
          "output_type": "execute_result",
          "data": {
            "text/plain": [
              "4.8249292664189"
            ]
          },
          "metadata": {},
          "execution_count": 29
        }
      ]
    },
    {
      "cell_type": "code",
      "metadata": {
        "colab": {
          "base_uri": "https://localhost:8080/"
        },
        "id": "mzQEUVyYmr1Z",
        "outputId": "9e6d3521-6cab-40eb-e014-47d632742631"
      },
      "source": [
        "x, y= biggest_number_on_diagonal(copy(a), copy(b), debug=True)\n",
        "np.trace(np.abs(x))"
      ],
      "execution_count": null,
      "outputs": [
        {
          "output_type": "stream",
          "name": "stdout",
          "text": [
            "Original Matrix:\n",
            " [[5.79315235e-01 5.57755682e-01 9.82776883e-01 8.59210316e-01\n",
            "  9.82789175e-01 5.70460570e-01]\n",
            " [4.63884847e-01 2.03898475e-01 6.45115635e-01 5.73771965e-03\n",
            "  2.53558114e-01 2.93868966e-01]\n",
            " [9.60109010e-02 2.59857040e-01 9.32480343e-01 1.25913580e-01\n",
            "  2.17191858e-01 2.66396029e-01]\n",
            " [6.09459456e-01 9.70379282e-01 3.80612214e-01 7.60774846e-01\n",
            "  1.24985034e-01 6.56054369e-02]\n",
            " [5.38796309e-01 7.70556334e-01 3.29206586e-01 1.31364179e-01\n",
            "  6.16407796e-01 7.21429148e-01]\n",
            " [6.40049824e-02 9.63570908e-01 2.75214348e-04 2.60160420e-01\n",
            "  4.57154328e-01 4.81887056e-02]] [0.21350085 0.55545059 0.44343627 0.06122679 0.72931298 0.37277473]\n",
            "New Matrix:\n",
            " [[4.63884847e-01 2.03898475e-01 6.45115635e-01 5.73771965e-03\n",
            "  2.53558114e-01 2.93868966e-01]\n",
            " [6.40049824e-02 9.63570908e-01 2.75214348e-04 2.60160420e-01\n",
            "  4.57154328e-01 4.81887056e-02]\n",
            " [9.60109010e-02 2.59857040e-01 9.32480343e-01 1.25913580e-01\n",
            "  2.17191858e-01 2.66396029e-01]\n",
            " [6.09459456e-01 9.70379282e-01 3.80612214e-01 7.60774846e-01\n",
            "  1.24985034e-01 6.56054369e-02]\n",
            " [5.79315235e-01 5.57755682e-01 9.82776883e-01 8.59210316e-01\n",
            "  9.82789175e-01 5.70460570e-01]\n",
            " [5.38796309e-01 7.70556334e-01 3.29206586e-01 1.31364179e-01\n",
            "  6.16407796e-01 7.21429148e-01]] [0.55545059 0.37277473 0.44343627 0.06122679 0.21350085 0.72931298]\n"
          ]
        },
        {
          "output_type": "execute_result",
          "data": {
            "text/plain": [
              "4.8249292664189"
            ]
          },
          "metadata": {},
          "execution_count": 30
        }
      ]
    },
    {
      "cell_type": "code",
      "metadata": {
        "id": "HA-R-MyLmk36"
      },
      "source": [
        ""
      ],
      "execution_count": null,
      "outputs": []
    },
    {
      "cell_type": "code",
      "metadata": {
        "id": "_K584xsPAd-w"
      },
      "source": [
        ""
      ],
      "execution_count": null,
      "outputs": []
    }
  ]
}