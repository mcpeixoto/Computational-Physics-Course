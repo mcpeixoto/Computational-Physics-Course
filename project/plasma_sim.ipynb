{
 "cells": [
  {
   "cell_type": "code",
   "execution_count": 5,
   "metadata": {},
   "outputs": [],
   "source": [
    "import numpy as np\n",
    "import matplotlib.pyplot as plt"
   ]
  },
  {
   "cell_type": "code",
   "execution_count": 37,
   "metadata": {},
   "outputs": [],
   "source": [
    "# Box parameters\n",
    "side = 100 #width = height\n",
    "\n",
    "# Other\n",
    "n_particles = 50000\n",
    "\n",
    "\n",
    "### Beam inicialization\n",
    "\n",
    "## Posição dos beams em y\n",
    "top_beam = side*0.8\n",
    "low_beam = side*0.2\n",
    "\n",
    "positions = np.random.rand(n_particles,2) * side  \n",
    "\n",
    "# Configurar as posições em y dos beams\n",
    "positions[:int(n_particles/2),1] = top_beam\n",
    "positions[int(n_particles/2):,1] = low_beam\n",
    "\n",
    "# Adicionar-lhes perturbação com um sin\n",
    "positions[:,1] += 0.6*np.sin(2*np.pi*positions[:,0]/side)\n",
    "\n",
    "## Velocidades\n",
    "top_beam_velocity = 1\n",
    "low_beam_velocity = -1\n",
    "\n",
    "velocities = np.ones((n_particles,2))\n",
    "\n",
    "velocities[:int(n_particles/2),0] = top_beam_velocity\n",
    "velocities[int(n_particles/2):,0] = low_beam_velocity\n",
    "\n",
    "velocities[:,1] += 0.01*np.sin(2*np.pi*positions[:,0]/side)"
   ]
  },
  {
   "cell_type": "code",
   "execution_count": 43,
   "metadata": {},
   "outputs": [
    {
     "data": {
      "text/plain": [
       "[<matplotlib.lines.Line2D at 0x1d91ac1a800>]"
      ]
     },
     "execution_count": 43,
     "metadata": {},
     "output_type": "execute_result"
    },
    {
     "data": {
      "image/png": "[encoded data removed]",
      "text/plain": [
       "<Figure size 432x288 with 1 Axes>"
      ]
     },
     "metadata": {
      "needs_background": "light"
     },
     "output_type": "display_data"
    }
   ],
   "source": [
    "plt.plot(positions[:,0],positions[:,1],'.')"
   ]
  },
  {
   "cell_type": "code",
   "execution_count": null,
   "metadata": {},
   "outputs": [],
   "source": []
  }
 ],
 "metadata": {
  "interpreter": {
   "hash": "b89b5cfaba6639976dc87ff2fec6d58faec662063367e2c229c520fe71072417"
  },
  "kernelspec": {
   "display_name": "Python 3.10.2 64-bit",
   "language": "python",
   "name": "python3"
  },
  "language_info": {
   "codemirror_mode": {
    "name": "ipython",
    "version": 3
   },
   "file_extension": ".py",
   "mimetype": "text/x-python",
   "name": "python",
   "nbconvert_exporter": "python",
   "pygments_lexer": "ipython3",
   "version": "3.10.2"
  },
  "orig_nbformat": 4
 },
 "nbformat": 4,
 "nbformat_minor": 2
}
