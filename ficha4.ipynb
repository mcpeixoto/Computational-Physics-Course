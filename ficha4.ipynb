{
 "cells": [
  {
   "cell_type": "code",
   "execution_count": 1,
   "metadata": {},
   "outputs": [],
   "source": [
    "import matplotlib.pyplot as plt\n",
    "import numpy as np\n",
    "from numpy import sqrt, sin\n",
    "from __future__ import print_function\n",
    "from ipywidgets import interact, interactive, fixed, interact_manual\n",
    "import ipywidgets as widgets\n",
    "import matplotlib.pyplot as plt, random\n",
    "from mpl_toolkits.mplot3d import Axes3D\n",
    "import pandas as pd\n",
    "from copy import copy\n",
    "%matplotlib inline"
   ]
  },
  {
   "cell_type": "markdown",
   "metadata": {},
   "source": [
    "## Ex 1"
   ]
  },
  {
   "cell_type": "code",
   "execution_count": 2,
   "metadata": {},
   "outputs": [
    {
     "data": {
      "text/plain": [
       "[<matplotlib.lines.Line2D at 0x7fdeb05123d0>]"
      ]
     },
     "execution_count": 2,
     "metadata": {},
     "output_type": "execute_result"
    },
    {
     "data": {
      "image/png": "[encoded data removed]",
      "text/plain": [
       "<Figure size 432x288 with 1 Axes>"
      ]
     },
     "metadata": {
      "needs_background": "light"
     },
     "output_type": "display_data"
    }
   ],
   "source": [
    "G = 6.674 * 10**-11\n",
    "M = 5.974 * 10**24\n",
    "m = 7.348 * 10**22\n",
    "R = 3.844 * 10**8\n",
    "w = 2.662 * 10**-6\n",
    "\n",
    "func = lambda r: (G*M) / (r**2) - (G*m)/(R-r)**2 - w**2 * r\n",
    "\n",
    "\n",
    "x = np.linspace(1e7, 1e9, num=1000)\n",
    "y = func(x)\n",
    "plt.yscale('log')\n",
    "plt.plot(x, y)\n",
    "plt.plot(x, y*0)"
   ]
  },
  {
   "cell_type": "code",
   "execution_count": 3,
   "metadata": {},
   "outputs": [],
   "source": [
    "def newton(eq, p0, previous=None, max_depth=50, thr = 1e-10, iterations=0):\n",
    "    previous = p0 + 1\n",
    "\n",
    "    while True:\n",
    "        # Compute tangent line at point p1\n",
    "        delta = 1e-5\n",
    "        a = (eq(p0+delta) - eq(p0)) / delta\n",
    "        b = eq(p0) - a * p0\n",
    "\n",
    "        p0 = -b/a # Zero da tangente aka novo ponto \n",
    "        iterations += 1\n",
    "\n",
    "        if iterations >= max_depth or abs(previous-p0)<=thr:\n",
    "            break\n",
    "        previous = p0\n",
    "\n",
    "    print(f\"Zero found at {p0} - Iteration {iterations}\")\n",
    "    return p0\n"
   ]
  },
  {
   "cell_type": "code",
   "execution_count": 4,
   "metadata": {},
   "outputs": [
    {
     "name": "stdout",
     "output_type": "stream",
     "text": [
      "Zero found at 326045071.66535544 - Iteration 22\n",
      "> The distance is 326045.07166535547km\n"
     ]
    }
   ],
   "source": [
    "print(f\"> The distance is {newton(func, 1e6)/1e3}km\")"
   ]
  },
  {
   "cell_type": "markdown",
   "metadata": {},
   "source": [
    "## Ex 2"
   ]
  },
  {
   "cell_type": "code",
   "execution_count": 17,
   "metadata": {},
   "outputs": [
    {
     "data": {
      "text/plain": [
       "[<matplotlib.lines.Line2D at 0x7fdeaf32b640>]"
      ]
     },
     "execution_count": 17,
     "metadata": {},
     "output_type": "execute_result"
    },
    {
     "data": {
      "image/png": "[encoded data removed]",
      "text/plain": [
       "<Figure size 432x288 with 1 Axes>"
      ]
     },
     "metadata": {
      "needs_background": "light"
     },
     "output_type": "display_data"
    }
   ],
   "source": [
    "def eq2(x):\n",
    "    return np.exp(1-x**2)\n",
    "\n",
    "x = np.linspace(0, 2, num=100)\n",
    "\n",
    "plt.plot(x, x)\n",
    "plt.plot(x, eq2(x))"
   ]
  },
  {
   "cell_type": "code",
   "execution_count": 21,
   "metadata": {},
   "outputs": [
    {
     "name": "stdout",
     "output_type": "stream",
     "text": [
      "X0:0.5 | Iter:0\n",
      "X0:2.117000016612675 | Iter:1\n",
      "X0:0.030755419069985038 | Iter:2\n",
      "X0:2.715711832754083 | Iter:3\n",
      "X0:0.0017034651847384463 | Iter:4\n",
      "X0:2.71827394057758 | Iter:5\n",
      "X0:0.001679913095081425 | Iter:6\n",
      "X0:2.7182741571849562 | Iter:7\n",
      "X0:0.0016799111168229455 | Iter:8\n",
      "X0:2.7182741572030236 | Iter:9\n",
      "X0:0.0016799111166579386 | Iter:10\n",
      "X0:2.7182741572030253 | Iter:11\n"
     ]
    },
    {
     "data": {
      "text/plain": [
       "2.7182741572030253"
      ]
     },
     "execution_count": 21,
     "metadata": {},
     "output_type": "execute_result"
    }
   ],
   "source": [
    "x0 = 1/2\n",
    "\n",
    "\n",
    "def relax(eq, x0, max_depth=1e3, iter=0):\n",
    "    print(f\"X0:{x0} | Iter:{iter}\")\n",
    "    if iter > max_depth:\n",
    "        return x0\n",
    "    return relax(eq, eq(x0), max_depth, iter+1)\n",
    "\n",
    "relax(eq2, x0, max_depth=10)"
   ]
  },
  {
   "cell_type": "markdown",
   "metadata": {},
   "source": [
    "Não converge....\n",
    "\n",
    "Fazendo o logaritmo nos dois lados da equação..."
   ]
  },
  {
   "cell_type": "code",
   "execution_count": 26,
   "metadata": {},
   "outputs": [
    {
     "name": "stdout",
     "output_type": "stream",
     "text": [
      "0.5195469860817986\n",
      "0.5712395428979806\n",
      "0.6864597574518259\n",
      "0.858467784990345\n",
      "0.9767113708833908\n",
      "0.9994447334526998\n",
      "0.999999691507774\n",
      "0.9999999999999049\n",
      "1.0\n",
      "1.0\n"
     ]
    }
   ],
   "source": [
    "x = 1/2\n",
    "\n",
    "for _ in range(10):\n",
    "    x = np.log(x)\n",
    "    x = 1-x**2\n",
    "    print(x)"
   ]
  },
  {
   "cell_type": "markdown",
   "metadata": {},
   "source": [
    "## Ex 3"
   ]
  },
  {
   "cell_type": "code",
   "execution_count": 62,
   "metadata": {},
   "outputs": [],
   "source": [
    "R1 = R3 = R5 = 1000\n",
    "R2 = R4 = R6 = 2000\n",
    "C1 = 1*1e-6\n",
    "C2 = 0.5 * 1e-6\n",
    "x_plus = 3\n",
    "w = 1000\n",
    "\n",
    "\n",
    "from numpy.linalg import solve\n",
    "from cmath import polar, pi\n",
    "\n",
    "\n",
    "matrix = np.array([\n",
    "                    [(1/R1)+(1/R4)+1j*w*C1, -1j*w*C1,                       0],\n",
    "                    [-1j*w*C1,              1/R2+1/R5+1j*w*C1+1j*w*C2,      -1j*w*C2],\n",
    "                    [0,                     -1j*w*C2,                       1/R3+1/R6+1j*w*C2]\n",
    "                    ], complex)\n",
    "\n",
    "sol = np.array([x_plus/R1, x_plus/R2, x_plus/R3], float)"
   ]
  },
  {
   "cell_type": "code",
   "execution_count": 63,
   "metadata": {},
   "outputs": [
    {
     "name": "stdout",
     "output_type": "stream",
     "text": [
      "1.7014390658777336\n",
      "1.4806053465364064\n",
      "1.8607693200562134\n"
     ]
    }
   ],
   "source": [
    "x = solve(matrix, sol)\n",
    "\n",
    "for solution in x:\n",
    "    r, phi = polar(solution)\n",
    "    print(r)"
   ]
  },
  {
   "cell_type": "markdown",
   "metadata": {},
   "source": [
    "#### Ex 4 -> Casa"
   ]
  },
  {
   "cell_type": "markdown",
   "metadata": {},
   "source": [
    "#### Ex 5 -> Mais do mesmo"
   ]
  },
  {
   "cell_type": "markdown",
   "metadata": {},
   "source": [
    "## Ex 6"
   ]
  },
  {
   "cell_type": "code",
   "execution_count": 85,
   "metadata": {},
   "outputs": [
    {
     "data": {
      "text/plain": [
       "array([[ 3., -1., -1.,  0.,  0.,  0.],\n",
       "       [-1.,  4., -1., -1.,  0.,  0.],\n",
       "       [-1., -1.,  4., -1., -1.,  0.],\n",
       "       [ 0., -1., -1.,  4., -1., -1.],\n",
       "       [ 0.,  0., -1., -1.,  4., -1.],\n",
       "       [ 0.,  0.,  0., -1., -1.,  3.]])"
      ]
     },
     "execution_count": 85,
     "metadata": {},
     "output_type": "execute_result"
    }
   ],
   "source": [
    "from banded import banded\n",
    "\n",
    "N = 6\n",
    "V_plus = 5\n",
    "\n",
    "# Construção da matriz solução\n",
    "solucao=np.zeros([N],dtype=np.float64)\n",
    "solucao[0]=V_plus\n",
    "solucao[1]=V_plus\n",
    "\n",
    "## Construção matriz do sistema\n",
    "# Inicializar a zeros\n",
    "matriz=np.zeros([N,N],dtype=np.float64)\n",
    "\n",
    "# Primeira massa\n",
    "matriz[0][0]=3\n",
    "matriz[0][1]=-1\n",
    "matriz[0][2]=-1\n",
    "\n",
    "matriz[1][0]=-1\n",
    "matriz[1][1]=4\n",
    "matriz[1][2]=-1\n",
    "matriz[1][3]=-1\n",
    "\n",
    "# Ultima massa\n",
    "matriz[-2][-4]= -1\n",
    "matriz[-2][-3]= -1\n",
    "matriz[-2][-2]= 4\n",
    "matriz[-2][-1]= -1\n",
    "\n",
    "\n",
    "matriz[-1][-3] = -1\n",
    "matriz[-1][-2] = -1\n",
    "matriz[-1][-1] = 3\n",
    "\n",
    "\n",
    "# Massas restantes\n",
    "for i in range(2,N-2, 1):\n",
    "    matriz[i][i]=4\n",
    "    matriz[i][i-1]=-1\n",
    "    matriz[i][i-2]=-1\n",
    "\n",
    "    matriz[i][i+1]=-1\n",
    "    matriz[i][i+2]=-1\n",
    "\n",
    "matriz"
   ]
  },
  {
   "cell_type": "code",
   "execution_count": 86,
   "metadata": {},
   "outputs": [
    {
     "data": {
      "text/plain": [
       "array([3.7254902 , 3.43137255, 2.74509804, 2.25490196, 1.56862745,\n",
       "       1.2745098 ])"
      ]
     },
     "execution_count": 86,
     "metadata": {},
     "output_type": "execute_result"
    }
   ],
   "source": [
    "solve(matriz, solucao)"
   ]
  },
  {
   "cell_type": "markdown",
   "metadata": {},
   "source": [
    "Para a banded.."
   ]
  },
  {
   "cell_type": "code",
   "execution_count": 87,
   "metadata": {},
   "outputs": [
    {
     "data": {
      "text/plain": [
       "array([[-1., -1., -1., -1., -1., -1.],\n",
       "       [-1., -1., -1., -1., -1., -1.],\n",
       "       [ 3.,  4.,  4.,  4.,  4.,  3.],\n",
       "       [-1., -1., -1., -1., -1., -1.],\n",
       "       [-1., -1., -1., -1., -1., -1.]])"
      ]
     },
     "execution_count": 87,
     "metadata": {},
     "output_type": "execute_result"
    }
   ],
   "source": [
    "up = down = 2\n",
    "\n",
    "# Inicializar a matriz banded\n",
    "matrix = np.ones((1+up+down, N))\n",
    "\n",
    "# Diagonais \"parciais\" nao nulas\n",
    "matrix[0] = -1\n",
    "matrix[1] = -1\n",
    "matrix[3] = -1\n",
    "matrix[4] = -1\n",
    "\n",
    "# Diagonal\n",
    "matrix[2] = 4\n",
    "matrix[2][0] = matrix[2][-1] = 3\n",
    "\n",
    "matrix"
   ]
  },
  {
   "cell_type": "code",
   "execution_count": 89,
   "metadata": {},
   "outputs": [
    {
     "data": {
      "text/plain": [
       "[<matplotlib.lines.Line2D at 0x7fdeaf13dc40>]"
      ]
     },
     "execution_count": 89,
     "metadata": {},
     "output_type": "execute_result"
    },
    {
     "data": {
      "image/png": "[encoded data removed]",
      "text/plain": [
       "<Figure size 432x288 with 1 Axes>"
      ]
     },
     "metadata": {
      "needs_background": "light"
     },
     "output_type": "display_data"
    }
   ],
   "source": [
    "solution = banded(matrix, solucao, 2, 2)\n",
    "\n",
    "\n",
    "plt.plot([i for i in range(len(solution))], solution, 'ko')"
   ]
  },
  {
   "cell_type": "code",
   "execution_count": null,
   "metadata": {},
   "outputs": [],
   "source": []
  }
 ],
 "metadata": {
  "interpreter": {
   "hash": "767d51c1340bd893661ea55ea3124f6de3c7a262a8b4abca0554b478b1e2ff90"
  },
  "kernelspec": {
   "display_name": "Python 3.8.10 64-bit",
   "name": "python3"
  },
  "language_info": {
   "codemirror_mode": {
    "name": "ipython",
    "version": 3
   },
   "file_extension": ".py",
   "mimetype": "text/x-python",
   "name": "python",
   "nbconvert_exporter": "python",
   "pygments_lexer": "ipython3",
   "version": "3.8.10"
  },
  "orig_nbformat": 4
 },
 "nbformat": 4,
 "nbformat_minor": 2
}
