{
 "cells": [
  {
   "cell_type": "code",
   "execution_count": 1,
   "metadata": {},
   "outputs": [],
   "source": [
    "import matplotlib.pyplot as plt\n",
    "import numpy as np\n",
    "from numpy import sqrt, sin\n",
    "from __future__ import print_function\n",
    "from ipywidgets import interact, interactive, fixed, interact_manual\n",
    "import ipywidgets as widgets\n",
    "import matplotlib.pyplot as plt, random\n",
    "from mpl_toolkits.mplot3d import Axes3D\n",
    "import pandas as pd\n",
    "from copy import copy\n",
    "%matplotlib inline\n",
    "\n",
    "from numpy.random import rand"
   ]
  },
  {
   "cell_type": "markdown",
   "metadata": {},
   "source": [
    "#### Ex 1 - Caracteristica da matriz"
   ]
  },
  {
   "cell_type": "code",
   "execution_count": 2,
   "metadata": {},
   "outputs": [
    {
     "data": {
      "text/plain": [
       "array([[ 60., -10., -20.],\n",
       "       [-10.,  20., -10.],\n",
       "       [-20., -10.,  30.]])"
      ]
     },
     "execution_count": 2,
     "metadata": {},
     "output_type": "execute_result"
    }
   ],
   "source": [
    "k1 = k3 = k4 = k = 10\n",
    "k2 = k5 = 2 * k\n",
    "\n",
    "matrix = np.array([\n",
    "    [k1+k2+k3+k5,   -k3,        -k5],\n",
    "    [-k3,           k3+k4,      -k4],\n",
    "    [-k5,           -k4,        k4+k5]\n",
    "],dtype=np.float64)\n",
    "matrix"
   ]
  },
  {
   "cell_type": "code",
   "execution_count": 3,
   "metadata": {},
   "outputs": [
    {
     "name": "stdout",
     "output_type": "stream",
     "text": [
      "A matriz tem 3.0 linhas independentes\n"
     ]
    }
   ],
   "source": [
    "not_indepentend = 0\n",
    "\n",
    "# para cada linha da matriz\n",
    "for i, line in enumerate(matrix):\n",
    "    independente = True\n",
    "    # Vamos testar cada linha para ver se é independente\n",
    "    for k, line_to_check in  enumerate(matrix):\n",
    "        # Se não estamos na mesma linha\n",
    "        if k != i:\n",
    "            # Se a proporcionalidade entre os elementos das linhas é todo o mesmo, \n",
    "            # significa que eles não são independentes\n",
    "            if 1 == len(set([line[element_idx]/line_to_check[element_idx] for element_idx in range(len(line))])):\n",
    "                independente=False\n",
    "    if not independente:\n",
    "        not_indepentend += 1\n",
    "\n",
    "\n",
    "print(\"A matriz tem\", matrix.shape[0]-(not_indepentend/2), \"linhas independentes\")"
   ]
  },
  {
   "cell_type": "markdown",
   "metadata": {},
   "source": [
    "## Ex 2\n",
    "Foi para casa"
   ]
  },
  {
   "cell_type": "code",
   "execution_count": null,
   "metadata": {},
   "outputs": [],
   "source": []
  }
 ],
 "metadata": {
  "interpreter": {
   "hash": "767d51c1340bd893661ea55ea3124f6de3c7a262a8b4abca0554b478b1e2ff90"
  },
  "kernelspec": {
   "display_name": "Python 3.8.10 64-bit",
   "name": "python3"
  },
  "language_info": {
   "codemirror_mode": {
    "name": "ipython",
    "version": 3
   },
   "file_extension": ".py",
   "mimetype": "text/x-python",
   "name": "python",
   "nbconvert_exporter": "python",
   "pygments_lexer": "ipython3",
   "version": "3.9.9"
  },
  "orig_nbformat": 4
 },
 "nbformat": 4,
 "nbformat_minor": 2
}
