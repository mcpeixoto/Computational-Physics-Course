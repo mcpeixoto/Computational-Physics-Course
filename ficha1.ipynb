{
 "cells": [
  {
   "cell_type": "markdown",
   "metadata": {},
   "source": [
    "# **Ficha 1**\n",
    "## Miguel Caçador P. A92838"
   ]
  },
  {
   "cell_type": "markdown",
   "metadata": {},
   "source": [
    "### **1.** Calcular todos os números primos menores que 10000. Considere diferentes implementações para um programa que permita resolver este problema."
   ]
  },
  {
   "cell_type": "code",
   "execution_count": 1,
   "metadata": {},
   "outputs": [
    {
     "data": {
      "text/plain": [
       "[1,\n",
       " 2,\n",
       " 3,\n",
       " 5,\n",
       " 7,\n",
       " 11,\n",
       " 13,\n",
       " 17,\n",
       " 19,\n",
       " 23,\n",
       " 29,\n",
       " 31,\n",
       " 37,\n",
       " 41,\n",
       " 43,\n",
       " 47,\n",
       " 53,\n",
       " 59,\n",
       " 61,\n",
       " 67,\n",
       " 71,\n",
       " 73,\n",
       " 79,\n",
       " 83,\n",
       " 89,\n",
       " 97,\n",
       " 101,\n",
       " 103,\n",
       " 107,\n",
       " 109,\n",
       " 113,\n",
       " 127,\n",
       " 131,\n",
       " 137,\n",
       " 139,\n",
       " 149,\n",
       " 151,\n",
       " 157,\n",
       " 163,\n",
       " 167,\n",
       " 173,\n",
       " 179,\n",
       " 181,\n",
       " 191,\n",
       " 193,\n",
       " 197,\n",
       " 199,\n",
       " 211,\n",
       " 223,\n",
       " 227,\n",
       " 229,\n",
       " 233,\n",
       " 239,\n",
       " 241,\n",
       " 251,\n",
       " 257,\n",
       " 263,\n",
       " 269,\n",
       " 271,\n",
       " 277,\n",
       " 281,\n",
       " 283,\n",
       " 293,\n",
       " 307,\n",
       " 311,\n",
       " 313,\n",
       " 317,\n",
       " 331,\n",
       " 337,\n",
       " 347,\n",
       " 349,\n",
       " 353,\n",
       " 359,\n",
       " 367,\n",
       " 373,\n",
       " 379,\n",
       " 383,\n",
       " 389,\n",
       " 397,\n",
       " 401,\n",
       " 409,\n",
       " 419,\n",
       " 421,\n",
       " 431,\n",
       " 433,\n",
       " 439,\n",
       " 443,\n",
       " 449,\n",
       " 457,\n",
       " 461,\n",
       " 463,\n",
       " 467,\n",
       " 479,\n",
       " 487,\n",
       " 491,\n",
       " 499,\n",
       " 503,\n",
       " 509,\n",
       " 521,\n",
       " 523,\n",
       " 541,\n",
       " 547,\n",
       " 557,\n",
       " 563,\n",
       " 569,\n",
       " 571,\n",
       " 577,\n",
       " 587,\n",
       " 593,\n",
       " 599,\n",
       " 601,\n",
       " 607,\n",
       " 613,\n",
       " 617,\n",
       " 619,\n",
       " 631,\n",
       " 641,\n",
       " 643,\n",
       " 647,\n",
       " 653,\n",
       " 659,\n",
       " 661,\n",
       " 673,\n",
       " 677,\n",
       " 683,\n",
       " 691,\n",
       " 701,\n",
       " 709,\n",
       " 719,\n",
       " 727,\n",
       " 733,\n",
       " 739,\n",
       " 743,\n",
       " 751,\n",
       " 757,\n",
       " 761,\n",
       " 769,\n",
       " 773,\n",
       " 787,\n",
       " 797,\n",
       " 809,\n",
       " 811,\n",
       " 821,\n",
       " 823,\n",
       " 827,\n",
       " 829,\n",
       " 839,\n",
       " 853,\n",
       " 857,\n",
       " 859,\n",
       " 863,\n",
       " 877,\n",
       " 881,\n",
       " 883,\n",
       " 887,\n",
       " 907,\n",
       " 911,\n",
       " 919,\n",
       " 929,\n",
       " 937,\n",
       " 941,\n",
       " 947,\n",
       " 953,\n",
       " 967,\n",
       " 971,\n",
       " 977,\n",
       " 983,\n",
       " 991,\n",
       " 997,\n",
       " 1009,\n",
       " 1013,\n",
       " 1019,\n",
       " 1021,\n",
       " 1031,\n",
       " 1033,\n",
       " 1039,\n",
       " 1049,\n",
       " 1051,\n",
       " 1061,\n",
       " 1063,\n",
       " 1069,\n",
       " 1087,\n",
       " 1091,\n",
       " 1093,\n",
       " 1097,\n",
       " 1103,\n",
       " 1109,\n",
       " 1117,\n",
       " 1123,\n",
       " 1129,\n",
       " 1151,\n",
       " 1153,\n",
       " 1163,\n",
       " 1171,\n",
       " 1181,\n",
       " 1187,\n",
       " 1193,\n",
       " 1201,\n",
       " 1213,\n",
       " 1217,\n",
       " 1223,\n",
       " 1229,\n",
       " 1231,\n",
       " 1237,\n",
       " 1249,\n",
       " 1259,\n",
       " 1277,\n",
       " 1279,\n",
       " 1283,\n",
       " 1289,\n",
       " 1291,\n",
       " 1297,\n",
       " 1301,\n",
       " 1303,\n",
       " 1307,\n",
       " 1319,\n",
       " 1321,\n",
       " 1327,\n",
       " 1361,\n",
       " 1367,\n",
       " 1373,\n",
       " 1381,\n",
       " 1399,\n",
       " 1409,\n",
       " 1423,\n",
       " 1427,\n",
       " 1429,\n",
       " 1433,\n",
       " 1439,\n",
       " 1447,\n",
       " 1451,\n",
       " 1453,\n",
       " 1459,\n",
       " 1471,\n",
       " 1481,\n",
       " 1483,\n",
       " 1487,\n",
       " 1489,\n",
       " 1493,\n",
       " 1499,\n",
       " 1511,\n",
       " 1523,\n",
       " 1531,\n",
       " 1543,\n",
       " 1549,\n",
       " 1553,\n",
       " 1559,\n",
       " 1567,\n",
       " 1571,\n",
       " 1579,\n",
       " 1583,\n",
       " 1597,\n",
       " 1601,\n",
       " 1607,\n",
       " 1609,\n",
       " 1613,\n",
       " 1619,\n",
       " 1621,\n",
       " 1627,\n",
       " 1637,\n",
       " 1657,\n",
       " 1663,\n",
       " 1667,\n",
       " 1669,\n",
       " 1693,\n",
       " 1697,\n",
       " 1699,\n",
       " 1709,\n",
       " 1721,\n",
       " 1723,\n",
       " 1733,\n",
       " 1741,\n",
       " 1747,\n",
       " 1753,\n",
       " 1759,\n",
       " 1777,\n",
       " 1783,\n",
       " 1787,\n",
       " 1789,\n",
       " 1801,\n",
       " 1811,\n",
       " 1823,\n",
       " 1831,\n",
       " 1847,\n",
       " 1861,\n",
       " 1867,\n",
       " 1871,\n",
       " 1873,\n",
       " 1877,\n",
       " 1879,\n",
       " 1889,\n",
       " 1901,\n",
       " 1907,\n",
       " 1913,\n",
       " 1931,\n",
       " 1933,\n",
       " 1949,\n",
       " 1951,\n",
       " 1973,\n",
       " 1979,\n",
       " 1987,\n",
       " 1993,\n",
       " 1997,\n",
       " 1999,\n",
       " 2003,\n",
       " 2011,\n",
       " 2017,\n",
       " 2027,\n",
       " 2029,\n",
       " 2039,\n",
       " 2053,\n",
       " 2063,\n",
       " 2069,\n",
       " 2081,\n",
       " 2083,\n",
       " 2087,\n",
       " 2089,\n",
       " 2099,\n",
       " 2111,\n",
       " 2113,\n",
       " 2129,\n",
       " 2131,\n",
       " 2137,\n",
       " 2141,\n",
       " 2143,\n",
       " 2153,\n",
       " 2161,\n",
       " 2179,\n",
       " 2203,\n",
       " 2207,\n",
       " 2213,\n",
       " 2221,\n",
       " 2237,\n",
       " 2239,\n",
       " 2243,\n",
       " 2251,\n",
       " 2267,\n",
       " 2269,\n",
       " 2273,\n",
       " 2281,\n",
       " 2287,\n",
       " 2293,\n",
       " 2297,\n",
       " 2309,\n",
       " 2311,\n",
       " 2333,\n",
       " 2339,\n",
       " 2341,\n",
       " 2347,\n",
       " 2351,\n",
       " 2357,\n",
       " 2371,\n",
       " 2377,\n",
       " 2381,\n",
       " 2383,\n",
       " 2389,\n",
       " 2393,\n",
       " 2399,\n",
       " 2411,\n",
       " 2417,\n",
       " 2423,\n",
       " 2437,\n",
       " 2441,\n",
       " 2447,\n",
       " 2459,\n",
       " 2467,\n",
       " 2473,\n",
       " 2477,\n",
       " 2503,\n",
       " 2521,\n",
       " 2531,\n",
       " 2539,\n",
       " 2543,\n",
       " 2549,\n",
       " 2551,\n",
       " 2557,\n",
       " 2579,\n",
       " 2591,\n",
       " 2593,\n",
       " 2609,\n",
       " 2617,\n",
       " 2621,\n",
       " 2633,\n",
       " 2647,\n",
       " 2657,\n",
       " 2659,\n",
       " 2663,\n",
       " 2671,\n",
       " 2677,\n",
       " 2683,\n",
       " 2687,\n",
       " 2689,\n",
       " 2693,\n",
       " 2699,\n",
       " 2707,\n",
       " 2711,\n",
       " 2713,\n",
       " 2719,\n",
       " 2729,\n",
       " 2731,\n",
       " 2741,\n",
       " 2749,\n",
       " 2753,\n",
       " 2767,\n",
       " 2777,\n",
       " 2789,\n",
       " 2791,\n",
       " 2797,\n",
       " 2801,\n",
       " 2803,\n",
       " 2819,\n",
       " 2833,\n",
       " 2837,\n",
       " 2843,\n",
       " 2851,\n",
       " 2857,\n",
       " 2861,\n",
       " 2879,\n",
       " 2887,\n",
       " 2897,\n",
       " 2903,\n",
       " 2909,\n",
       " 2917,\n",
       " 2927,\n",
       " 2939,\n",
       " 2953,\n",
       " 2957,\n",
       " 2963,\n",
       " 2969,\n",
       " 2971,\n",
       " 2999,\n",
       " 3001,\n",
       " 3011,\n",
       " 3019,\n",
       " 3023,\n",
       " 3037,\n",
       " 3041,\n",
       " 3049,\n",
       " 3061,\n",
       " 3067,\n",
       " 3079,\n",
       " 3083,\n",
       " 3089,\n",
       " 3109,\n",
       " 3119,\n",
       " 3121,\n",
       " 3137,\n",
       " 3163,\n",
       " 3167,\n",
       " 3169,\n",
       " 3181,\n",
       " 3187,\n",
       " 3191,\n",
       " 3203,\n",
       " 3209,\n",
       " 3217,\n",
       " 3221,\n",
       " 3229,\n",
       " 3251,\n",
       " 3253,\n",
       " 3257,\n",
       " 3259,\n",
       " 3271,\n",
       " 3299,\n",
       " 3301,\n",
       " 3307,\n",
       " 3313,\n",
       " 3319,\n",
       " 3323,\n",
       " 3329,\n",
       " 3331,\n",
       " 3343,\n",
       " 3347,\n",
       " 3359,\n",
       " 3361,\n",
       " 3371,\n",
       " 3373,\n",
       " 3389,\n",
       " 3391,\n",
       " 3407,\n",
       " 3413,\n",
       " 3433,\n",
       " 3449,\n",
       " 3457,\n",
       " 3461,\n",
       " 3463,\n",
       " 3467,\n",
       " 3469,\n",
       " 3491,\n",
       " 3499,\n",
       " 3511,\n",
       " 3517,\n",
       " 3527,\n",
       " 3529,\n",
       " 3533,\n",
       " 3539,\n",
       " 3541,\n",
       " 3547,\n",
       " 3557,\n",
       " 3559,\n",
       " 3571,\n",
       " 3581,\n",
       " 3583,\n",
       " 3593,\n",
       " 3607,\n",
       " 3613,\n",
       " 3617,\n",
       " 3623,\n",
       " 3631,\n",
       " 3637,\n",
       " 3643,\n",
       " 3659,\n",
       " 3671,\n",
       " 3673,\n",
       " 3677,\n",
       " 3691,\n",
       " 3697,\n",
       " 3701,\n",
       " 3709,\n",
       " 3719,\n",
       " 3727,\n",
       " 3733,\n",
       " 3739,\n",
       " 3761,\n",
       " 3767,\n",
       " 3769,\n",
       " 3779,\n",
       " 3793,\n",
       " 3797,\n",
       " 3803,\n",
       " 3821,\n",
       " 3823,\n",
       " 3833,\n",
       " 3847,\n",
       " 3851,\n",
       " 3853,\n",
       " 3863,\n",
       " 3877,\n",
       " 3881,\n",
       " 3889,\n",
       " 3907,\n",
       " 3911,\n",
       " 3917,\n",
       " 3919,\n",
       " 3923,\n",
       " 3929,\n",
       " 3931,\n",
       " 3943,\n",
       " 3947,\n",
       " 3967,\n",
       " 3989,\n",
       " 4001,\n",
       " 4003,\n",
       " 4007,\n",
       " 4013,\n",
       " 4019,\n",
       " 4021,\n",
       " 4027,\n",
       " 4049,\n",
       " 4051,\n",
       " 4057,\n",
       " 4073,\n",
       " 4079,\n",
       " 4091,\n",
       " 4093,\n",
       " 4099,\n",
       " 4111,\n",
       " 4127,\n",
       " 4129,\n",
       " 4133,\n",
       " 4139,\n",
       " 4153,\n",
       " 4157,\n",
       " 4159,\n",
       " 4177,\n",
       " 4201,\n",
       " 4211,\n",
       " 4217,\n",
       " 4219,\n",
       " 4229,\n",
       " 4231,\n",
       " 4241,\n",
       " 4243,\n",
       " 4253,\n",
       " 4259,\n",
       " 4261,\n",
       " 4271,\n",
       " 4273,\n",
       " 4283,\n",
       " 4289,\n",
       " 4297,\n",
       " 4327,\n",
       " 4337,\n",
       " 4339,\n",
       " 4349,\n",
       " 4357,\n",
       " 4363,\n",
       " 4373,\n",
       " 4391,\n",
       " 4397,\n",
       " 4409,\n",
       " 4421,\n",
       " 4423,\n",
       " 4441,\n",
       " 4447,\n",
       " 4451,\n",
       " 4457,\n",
       " 4463,\n",
       " 4481,\n",
       " 4483,\n",
       " 4493,\n",
       " 4507,\n",
       " 4513,\n",
       " 4517,\n",
       " 4519,\n",
       " 4523,\n",
       " 4547,\n",
       " 4549,\n",
       " 4561,\n",
       " 4567,\n",
       " 4583,\n",
       " 4591,\n",
       " 4597,\n",
       " 4603,\n",
       " 4621,\n",
       " 4637,\n",
       " 4639,\n",
       " 4643,\n",
       " 4649,\n",
       " 4651,\n",
       " 4657,\n",
       " 4663,\n",
       " 4673,\n",
       " 4679,\n",
       " 4691,\n",
       " 4703,\n",
       " 4721,\n",
       " 4723,\n",
       " 4729,\n",
       " 4733,\n",
       " 4751,\n",
       " 4759,\n",
       " 4783,\n",
       " 4787,\n",
       " 4789,\n",
       " 4793,\n",
       " 4799,\n",
       " 4801,\n",
       " 4813,\n",
       " 4817,\n",
       " 4831,\n",
       " 4861,\n",
       " 4871,\n",
       " 4877,\n",
       " 4889,\n",
       " 4903,\n",
       " 4909,\n",
       " 4919,\n",
       " 4931,\n",
       " 4933,\n",
       " 4937,\n",
       " 4943,\n",
       " 4951,\n",
       " 4957,\n",
       " 4967,\n",
       " 4969,\n",
       " 4973,\n",
       " 4987,\n",
       " 4993,\n",
       " 4999,\n",
       " 5003,\n",
       " 5009,\n",
       " 5011,\n",
       " 5021,\n",
       " 5023,\n",
       " 5039,\n",
       " 5051,\n",
       " 5059,\n",
       " 5077,\n",
       " 5081,\n",
       " 5087,\n",
       " 5099,\n",
       " 5101,\n",
       " 5107,\n",
       " 5113,\n",
       " 5119,\n",
       " 5147,\n",
       " 5153,\n",
       " 5167,\n",
       " 5171,\n",
       " 5179,\n",
       " 5189,\n",
       " 5197,\n",
       " 5209,\n",
       " 5227,\n",
       " 5231,\n",
       " 5233,\n",
       " 5237,\n",
       " 5261,\n",
       " 5273,\n",
       " 5279,\n",
       " 5281,\n",
       " 5297,\n",
       " 5303,\n",
       " 5309,\n",
       " 5323,\n",
       " 5333,\n",
       " 5347,\n",
       " 5351,\n",
       " 5381,\n",
       " 5387,\n",
       " 5393,\n",
       " 5399,\n",
       " 5407,\n",
       " 5413,\n",
       " 5417,\n",
       " 5419,\n",
       " 5431,\n",
       " 5437,\n",
       " 5441,\n",
       " 5443,\n",
       " 5449,\n",
       " 5471,\n",
       " 5477,\n",
       " 5479,\n",
       " 5483,\n",
       " 5501,\n",
       " 5503,\n",
       " 5507,\n",
       " 5519,\n",
       " 5521,\n",
       " 5527,\n",
       " 5531,\n",
       " 5557,\n",
       " 5563,\n",
       " 5569,\n",
       " 5573,\n",
       " 5581,\n",
       " 5591,\n",
       " 5623,\n",
       " 5639,\n",
       " 5641,\n",
       " 5647,\n",
       " 5651,\n",
       " 5653,\n",
       " 5657,\n",
       " 5659,\n",
       " 5669,\n",
       " 5683,\n",
       " 5689,\n",
       " 5693,\n",
       " 5701,\n",
       " 5711,\n",
       " 5717,\n",
       " 5737,\n",
       " 5741,\n",
       " 5743,\n",
       " 5749,\n",
       " 5779,\n",
       " 5783,\n",
       " 5791,\n",
       " 5801,\n",
       " 5807,\n",
       " 5813,\n",
       " 5821,\n",
       " 5827,\n",
       " 5839,\n",
       " 5843,\n",
       " 5849,\n",
       " 5851,\n",
       " 5857,\n",
       " 5861,\n",
       " 5867,\n",
       " 5869,\n",
       " 5879,\n",
       " 5881,\n",
       " 5897,\n",
       " 5903,\n",
       " 5923,\n",
       " 5927,\n",
       " 5939,\n",
       " 5953,\n",
       " 5981,\n",
       " 5987,\n",
       " 6007,\n",
       " 6011,\n",
       " 6029,\n",
       " 6037,\n",
       " 6043,\n",
       " 6047,\n",
       " 6053,\n",
       " 6067,\n",
       " 6073,\n",
       " 6079,\n",
       " 6089,\n",
       " 6091,\n",
       " 6101,\n",
       " 6113,\n",
       " 6121,\n",
       " 6131,\n",
       " 6133,\n",
       " 6143,\n",
       " 6151,\n",
       " 6163,\n",
       " 6173,\n",
       " 6197,\n",
       " 6199,\n",
       " 6203,\n",
       " 6211,\n",
       " 6217,\n",
       " 6221,\n",
       " 6229,\n",
       " 6247,\n",
       " 6257,\n",
       " 6263,\n",
       " 6269,\n",
       " 6271,\n",
       " 6277,\n",
       " 6287,\n",
       " 6299,\n",
       " 6301,\n",
       " 6311,\n",
       " 6317,\n",
       " 6323,\n",
       " 6329,\n",
       " 6337,\n",
       " 6343,\n",
       " 6353,\n",
       " 6359,\n",
       " 6361,\n",
       " 6367,\n",
       " 6373,\n",
       " 6379,\n",
       " 6389,\n",
       " 6397,\n",
       " 6421,\n",
       " 6427,\n",
       " 6449,\n",
       " 6451,\n",
       " 6469,\n",
       " 6473,\n",
       " 6481,\n",
       " 6491,\n",
       " 6521,\n",
       " 6529,\n",
       " 6547,\n",
       " 6551,\n",
       " 6553,\n",
       " 6563,\n",
       " 6569,\n",
       " 6571,\n",
       " 6577,\n",
       " 6581,\n",
       " 6599,\n",
       " 6607,\n",
       " 6619,\n",
       " 6637,\n",
       " 6653,\n",
       " 6659,\n",
       " 6661,\n",
       " 6673,\n",
       " 6679,\n",
       " 6689,\n",
       " 6691,\n",
       " 6701,\n",
       " 6703,\n",
       " 6709,\n",
       " 6719,\n",
       " 6733,\n",
       " 6737,\n",
       " 6761,\n",
       " 6763,\n",
       " 6779,\n",
       " 6781,\n",
       " 6791,\n",
       " 6793,\n",
       " 6803,\n",
       " 6823,\n",
       " 6827,\n",
       " 6829,\n",
       " 6833,\n",
       " 6841,\n",
       " 6857,\n",
       " 6863,\n",
       " 6869,\n",
       " 6871,\n",
       " 6883,\n",
       " 6899,\n",
       " 6907,\n",
       " 6911,\n",
       " 6917,\n",
       " 6947,\n",
       " 6949,\n",
       " 6959,\n",
       " 6961,\n",
       " 6967,\n",
       " 6971,\n",
       " 6977,\n",
       " 6983,\n",
       " 6991,\n",
       " 6997,\n",
       " 7001,\n",
       " 7013,\n",
       " 7019,\n",
       " 7027,\n",
       " 7039,\n",
       " 7043,\n",
       " 7057,\n",
       " 7069,\n",
       " 7079,\n",
       " 7103,\n",
       " 7109,\n",
       " 7121,\n",
       " 7127,\n",
       " 7129,\n",
       " 7151,\n",
       " 7159,\n",
       " 7177,\n",
       " 7187,\n",
       " 7193,\n",
       " 7207,\n",
       " 7211,\n",
       " 7213,\n",
       " 7219,\n",
       " 7229,\n",
       " 7237,\n",
       " 7243,\n",
       " 7247,\n",
       " 7253,\n",
       " 7283,\n",
       " 7297,\n",
       " 7307,\n",
       " 7309,\n",
       " 7321,\n",
       " 7331,\n",
       " 7333,\n",
       " 7349,\n",
       " 7351,\n",
       " 7369,\n",
       " 7393,\n",
       " 7411,\n",
       " 7417,\n",
       " 7433,\n",
       " 7451,\n",
       " 7457,\n",
       " 7459,\n",
       " 7477,\n",
       " 7481,\n",
       " 7487,\n",
       " 7489,\n",
       " 7499,\n",
       " 7507,\n",
       " 7517,\n",
       " 7523,\n",
       " 7529,\n",
       " 7537,\n",
       " 7541,\n",
       " 7547,\n",
       " 7549,\n",
       " 7559,\n",
       " 7561,\n",
       " 7573,\n",
       " 7577,\n",
       " 7583,\n",
       " 7589,\n",
       " 7591,\n",
       " 7603,\n",
       " 7607,\n",
       " 7621,\n",
       " 7639,\n",
       " 7643,\n",
       " 7649,\n",
       " 7669,\n",
       " 7673,\n",
       " 7681,\n",
       " 7687,\n",
       " 7691,\n",
       " 7699,\n",
       " 7703,\n",
       " 7717,\n",
       " 7723,\n",
       " 7727,\n",
       " 7741,\n",
       " 7753,\n",
       " 7757,\n",
       " 7759,\n",
       " 7789,\n",
       " 7793,\n",
       " 7817,\n",
       " 7823,\n",
       " 7829,\n",
       " 7841,\n",
       " 7853,\n",
       " 7867,\n",
       " 7873,\n",
       " 7877,\n",
       " 7879,\n",
       " 7883,\n",
       " 7901,\n",
       " 7907,\n",
       " ...]"
      ]
     },
     "execution_count": 1,
     "metadata": {},
     "output_type": "execute_result"
    }
   ],
   "source": [
    "# Brute force method ?\n",
    "def primes_brute_force(max):\n",
    "    prime_numbers = []\n",
    "    for number in range(1, int(max), 1):\n",
    "\n",
    "        is_prime = True\n",
    "        i = number -1 \n",
    "        while True:\n",
    "            # Stop case\n",
    "            if i <= 1:\n",
    "                break\n",
    "            \n",
    "            # If the number is divisable for \n",
    "            # another number that is not 1 or itself\n",
    "            # it's not a prime!\n",
    "            if number % i == 0:\n",
    "                is_prime = False\n",
    "\n",
    "            # Decrease i\n",
    "            i -= 1\n",
    "\n",
    "        if is_prime:\n",
    "            prime_numbers.append(number)\n",
    "\n",
    "    return prime_numbers\n",
    "\n",
    "\n",
    "primes_brute_force(1e4)"
   ]
  },
  {
   "cell_type": "markdown",
   "metadata": {},
   "source": [
    "## **2.** Considere os vetores x = [1, 2, 3] e y = [4, 5, 6]. Escreva um programa que calcule o seu produto interno."
   ]
  },
  {
   "cell_type": "markdown",
   "metadata": {},
   "source": [
    "#"
   ]
  },
  {
   "cell_type": "code",
   "execution_count": 2,
   "metadata": {},
   "outputs": [],
   "source": [
    "def dot(x, y):\n",
    "    assert len(x) == len(y), \"they are not the same shape!\"\n",
    "\n",
    "    return sum([x[i]*y[i] for i in range(len(x))])"
   ]
  },
  {
   "cell_type": "code",
   "execution_count": 3,
   "metadata": {},
   "outputs": [
    {
     "data": {
      "text/plain": [
       "32"
      ]
     },
     "execution_count": 3,
     "metadata": {},
     "output_type": "execute_result"
    }
   ],
   "source": [
    "x = [1,2,3]\n",
    "y = [4,5,6]\n",
    "dot(x, y)"
   ]
  },
  {
   "cell_type": "markdown",
   "metadata": {},
   "source": [
    "## **3.** Escreva um programa que devolva a área e o perímetro de um círculo dado o seu raio."
   ]
  },
  {
   "cell_type": "code",
   "execution_count": 4,
   "metadata": {},
   "outputs": [],
   "source": [
    "def circle_proprieties(r):\n",
    "    from math import pi\n",
    "    perimetro = 2 * pi * r\n",
    "    area = pi * r**2\n",
    "\n",
    "    print(\"Perimetro: {0:.2f}\".format(perimetro))\n",
    "    print(\"Area: {0:.2f}\".format(area))"
   ]
  },
  {
   "cell_type": "code",
   "execution_count": 5,
   "metadata": {},
   "outputs": [
    {
     "name": "stdout",
     "output_type": "stream",
     "text": [
      "Perimetro: 35.81\n",
      "Area: 102.07\n"
     ]
    }
   ],
   "source": [
    "circle_proprieties(5.7)"
   ]
  },
  {
   "cell_type": "markdown",
   "metadata": {},
   "source": [
    "## **4.** Represente a função (2D) (...)"
   ]
  },
  {
   "cell_type": "code",
   "execution_count": 6,
   "metadata": {},
   "outputs": [],
   "source": [
    "def func_4(x):\n",
    "    from numpy import exp, cos\n",
    "\n",
    "    return exp(-x**2) * cos(20*x)"
   ]
  },
  {
   "cell_type": "code",
   "execution_count": 7,
   "metadata": {},
   "outputs": [],
   "source": [
    "%matplotlib inline\n",
    "# Usar pylab\n",
    "import numpy as np\n",
    "import matplotlib.pyplot as plt\n",
    "from mpl_toolkits.mplot3d import Axes3D\n",
    "\n",
    "def plot_func(function, start, stop, resolution, dimension=2):\n",
    "    \n",
    "    if dimension == 2:\n",
    "        x = np.linspace(start, stop, num=resolution) #range(start, end, resolution)\n",
    "        y = [function(i) for i in x]\n",
    "\n",
    "        plt.plot(x,y)\n",
    "\n",
    "    if dimension == 3:\n",
    "        fig = plt.figure()\n",
    "        ax = plt.axes(projection='3d')\n",
    "\n",
    "        x = np.linspace(start, stop, num=resolution)\n",
    "        y = np.linspace(start, stop, num=resolution)\n",
    "\n",
    "        x, y = np.meshgrid(x, y)\n",
    "\n",
    "        \n",
    "        #ax.plot3D(x, y, function(x,y))#\n",
    "        ax.plot_surface(x, y, function(x,y))"
   ]
  },
  {
   "cell_type": "code",
   "execution_count": 8,
   "metadata": {},
   "outputs": [
    {
     "data": {
      "image/png": "[encoded data removed]",
      "text/plain": [
       "<Figure size 432x288 with 1 Axes>"
      ]
     },
     "metadata": {
      "needs_background": "light"
     },
     "output_type": "display_data"
    }
   ],
   "source": [
    "plot_func(func_4, -2, 2 , 100 )"
   ]
  },
  {
   "cell_type": "markdown",
   "metadata": {},
   "source": [
    "### Implementação do nuno"
   ]
  },
  {
   "cell_type": "code",
   "execution_count": 9,
   "metadata": {},
   "outputs": [
    {
     "data": {
      "text/plain": [
       "Text(0.5, 0, 'x')"
      ]
     },
     "execution_count": 9,
     "metadata": {},
     "output_type": "execute_result"
    },
    {
     "data": {
      "image/png": "[encoded data removed]",
      "text/plain": [
       "<Figure size 432x288 with 1 Axes>"
      ]
     },
     "metadata": {
      "needs_background": "light"
     },
     "output_type": "display_data"
    }
   ],
   "source": [
    "import pylab #seaborn\n",
    "\n",
    "x = np.linspace(-2, 2, 100)\n",
    "pylab.plot(x, func_4(x))\n",
    "x = np.linspace(-2, 2, 25)\n",
    "pylab.plot(x, func_4(x), 'ro') # o 'o' é das bolas, o 'r' é da cor\n",
    "pylab.ylabel('ex 4')\n",
    "pylab.xlabel('x')"
   ]
  },
  {
   "cell_type": "markdown",
   "metadata": {},
   "source": [
    "## **5.** Represente a função (3D) z = sin(x) × cos(y) entre -3 e 3."
   ]
  },
  {
   "cell_type": "code",
   "execution_count": 10,
   "metadata": {},
   "outputs": [
    {
     "data": {
      "image/png": "[encoded data removed]",
      "text/plain": [
       "<Figure size 432x288 with 1 Axes>"
      ]
     },
     "metadata": {
      "needs_background": "light"
     },
     "output_type": "display_data"
    }
   ],
   "source": [
    "def func_5(x, y):\n",
    "    from numpy import exp, cos, sin\n",
    "\n",
    "    return sin(x) * cos(y)\n",
    "\n",
    "plot_func(func_5, -3, 3 , 100, dimension=3)"
   ]
  },
  {
   "cell_type": "markdown",
   "metadata": {},
   "source": [
    "### Implementação do nuno"
   ]
  },
  {
   "cell_type": "code",
   "execution_count": 11,
   "metadata": {},
   "outputs": [
    {
     "data": {
      "image/png": "[encoded data removed]",
      "text/plain": [
       "<Figure size 432x288 with 1 Axes>"
      ]
     },
     "metadata": {
      "needs_background": "light"
     },
     "output_type": "display_data"
    }
   ],
   "source": [
    "from mpl_toolkits import mplot3d\n",
    "import matplotlib.pyplot as plt\n",
    "\n",
    "fig = plt.figure()\n",
    "ax = plt.axes(projection='3d')"
   ]
  },
  {
   "cell_type": "code",
   "execution_count": 12,
   "metadata": {},
   "outputs": [],
   "source": [
    "%matplotlib inline"
   ]
  },
  {
   "cell_type": "code",
   "execution_count": 13,
   "metadata": {},
   "outputs": [
    {
     "data": {
      "text/plain": [
       "<matplotlib.contour.QuadContourSet at 0x7f1b39a37490>"
      ]
     },
     "execution_count": 13,
     "metadata": {},
     "output_type": "execute_result"
    },
    {
     "data": {
      "image/png": "[encoded data removed]",
      "text/plain": [
       "<Figure size 432x288 with 1 Axes>"
      ]
     },
     "metadata": {
      "needs_background": "light"
     },
     "output_type": "display_data"
    }
   ],
   "source": [
    "x = np.linspace(-3, 3, 100)\n",
    "y = np.linspace(-3, 3, 100)\n",
    "\n",
    "# Calcula a matriz\n",
    "x, y = np.meshgrid(x, y)\n",
    "\n",
    "fig = plt.figure()\n",
    "ax = plt.axes(projection='3d')\n",
    "\n",
    "ax.contour3D(x, y, func_5(x,y), 60, cmap='hot')"
   ]
  },
  {
   "cell_type": "code",
   "execution_count": 14,
   "metadata": {},
   "outputs": [],
   "source": [
    "# Também existe ax.plot_wireframe!\n"
   ]
  },
  {
   "cell_type": "markdown",
   "metadata": {},
   "source": [
    "## **6.** Escreva um programa que permita determinar a precisão numérica do seu computador para a representação de números reais."
   ]
  },
  {
   "cell_type": "code",
   "execution_count": 15,
   "metadata": {},
   "outputs": [
    {
     "name": "stdout",
     "output_type": "stream",
     "text": [
      "1.1102230246251565e-16\n"
     ]
    }
   ],
   "source": [
    "x = 1\n",
    "i = -1\n",
    "\n",
    "\n",
    "while True:\n",
    "    x = 1+ 2**i\n",
    "\n",
    "    if x == 1:\n",
    "        print(2**i)\n",
    "        break\n",
    "    else:\n",
    "        i -= 1\n",
    "# temos que usar 1 na definição do epsilon \n",
    "# para não roubar bits."
   ]
  },
  {
   "cell_type": "code",
   "execution_count": 16,
   "metadata": {},
   "outputs": [
    {
     "name": "stdout",
     "output_type": "stream",
     "text": [
      "324\n"
     ]
    }
   ],
   "source": [
    "x = 1\n",
    "i = 1\n",
    "\n",
    "\n",
    "while True:\n",
    "    x = 1 / 10**i\n",
    "\n",
    "    if x == 0:\n",
    "        print(i)\n",
    "        break\n",
    "    else:\n",
    "        i += 1\n"
   ]
  },
  {
   "cell_type": "markdown",
   "metadata": {},
   "source": [
    "## **7.** Sabendo que e −x ≈ 1 − x + x 2 2! − x 3 3! + ... + x n n! , calcule e −x para x = 0, 1; 1; 10; 15; 30 requerendo que o erro numérico seja inferior a uma parte em 108 e compare os valores obtidos com os calculados através da função numpy.exp(). Represente graficamente a função para x ∈ [0, 30]."
   ]
  },
  {
   "cell_type": "markdown",
   "metadata": {},
   "source": [
    "### Explorando a função exponencial.."
   ]
  },
  {
   "cell_type": "code",
   "execution_count": 17,
   "metadata": {},
   "outputs": [],
   "source": [
    "import math \n",
    "\n",
    "\n",
    "def get_neg_exp_good(x, terms=30):\n",
    "    terms = int(terms)\n",
    "    \n",
    "    return 1/(sum([((x**i)/(np.math.factorial(i))) for i in range(terms)]))\n"
   ]
  },
  {
   "cell_type": "code",
   "execution_count": 18,
   "metadata": {},
   "outputs": [
    {
     "data": {
      "application/vnd.jupyter.widget-view+json": {
       "model_id": "0adac6a1927545bb84ef5b97ed5d8c58",
       "version_major": 2,
       "version_minor": 0
      },
      "text/plain": [
       "interactive(children=(IntSlider(value=50, description='terms', min=1), IntSlider(value=50, description='max_x'…"
      ]
     },
     "metadata": {},
     "output_type": "display_data"
    },
    {
     "data": {
      "text/plain": [
       "<function __main__.iteractive_plot(terms, max_x)>"
      ]
     },
     "execution_count": 18,
     "metadata": {},
     "output_type": "execute_result"
    },
    {
     "data": {
      "image/png": "[encoded data removed]",
      "text/plain": [
       "<Figure size 720x504 with 2 Axes>"
      ]
     },
     "metadata": {
      "needs_background": "light"
     },
     "output_type": "display_data"
    }
   ],
   "source": [
    "from __future__ import print_function\n",
    "from ipywidgets import interact, interactive, fixed, interact_manual\n",
    "import ipywidgets as widgets\n",
    "import matplotlib.pyplot as plt, random\n",
    "\n",
    "def iteractive_plot(terms, max_x):\n",
    "    fig, ax = plt.subplots(figsize=(10,7))\n",
    "\n",
    "    x = np.linspace(0, max_x, num=1000) \n",
    "    y_bad = [get_neg_exp_good(i, terms=terms) for i in x]\n",
    "    ax.plot(x, y_bad, label=\"Aproximated exponential\")\n",
    "\n",
    "\n",
    "    y_real = [np.exp(-i) for i in x]\n",
    "    ax.plot(x, y_real, label=\"Exponential\", color='g')\n",
    "    plt.legend()\n",
    "\n",
    "    ax.set_ylabel('e^(-x)')\n",
    "\n",
    "    # error\n",
    "    ax_err = ax.twinx()\n",
    "    ax_err.set_ylabel('Error')\n",
    "    y_error = [abs(y_bad[i]-y_real[i]) for i in range(len(y_bad))]\n",
    "    ax_err.plot(x, y_error, label=\"Error\", color='r')\n",
    "    ax_err.set_yscale('log')\n",
    "    fig.tight_layout()\n",
    "    plt.legend(loc='best')\n",
    "\n",
    "    return()\n",
    "\n",
    "    \n",
    "interact(iteractive_plot, terms=(1,100,1), max_x=(1,100,1))"
   ]
  },
  {
   "cell_type": "code",
   "execution_count": null,
   "metadata": {},
   "outputs": [],
   "source": []
  },
  {
   "cell_type": "markdown",
   "metadata": {},
   "source": []
  },
  {
   "cell_type": "markdown",
   "metadata": {},
   "source": [
    "## Calculo da função exponencial tendo em conta o erro numérico"
   ]
  },
  {
   "cell_type": "code",
   "execution_count": 19,
   "metadata": {},
   "outputs": [],
   "source": [
    "import numpy as np\n",
    "import math\n",
    "\n",
    "# Calculo do exponencial\n",
    "def exponencial_ma(x,n):\n",
    "    expo=0\n",
    "    for i in range(n):\n",
    "        e = ((-x)**i)/(np.math.factorial(i))\n",
    "        expo+=e\n",
    "    return expo \n",
    "\n",
    "def exponencial_boa(x,n):\n",
    "    expo=0\n",
    "    for i in range(n):\n",
    "        e = (x**i)/(np.math.factorial(i))\n",
    "        expo+=e\n",
    "    return 1/expo \n",
    "\n",
    "#Precisão\n",
    "def prec(x, serie):\n",
    "    if serie == 'boa':\n",
    "        func = exponencial_boa\n",
    "    else:\n",
    "        func = exponencial_ma\n",
    "    n = 1\n",
    "    while (abs(func(x,n+1)-func(x,n))/func(x,n+1))>=10**(-8):\n",
    "        n += 1\n",
    "    return func(x, n+1) "
   ]
  },
  {
   "cell_type": "code",
   "execution_count": 20,
   "metadata": {},
   "outputs": [],
   "source": [
    "def calcular_exp_neg(x, precisao=-8, debug=True):\n",
    "    #precisao = precisao-1\n",
    "    resultado = 0\n",
    "    resultado_anterior = None\n",
    "    i = 0\n",
    "\n",
    "\n",
    "    while True:\n",
    "        resultado += (((-x)**i)/(np.math.factorial(i)))\n",
    "        i += 1\n",
    "\n",
    "        if resultado_anterior is not None:\n",
    "            erro = abs(resultado - resultado_anterior)\n",
    "            eps = 1e-16\n",
    "            ordem_grandeza_erro = math.floor(math.log10(erro+eps))\n",
    "            if debug:\n",
    "                print(f\"Termo {i} - Ordem de grandeza do erro atualmente: {ordem_grandeza_erro}\", end=\"\\r\")\n",
    "\n",
    "            if ordem_grandeza_erro < precisao:\n",
    "                break\n",
    "\n",
    "        resultado_anterior = resultado\n",
    "    \n",
    "    if debug:\n",
    "        print(\"Termos usados:\", i)\n",
    "        print(f\"Resultado obtido: {resultado}\")\n",
    "        print(f\"Resultado real  : {np.exp(-x)}\")\n",
    "        print(\"Erro:\", erro)\n",
    "\n",
    "    return resultado\n"
   ]
  },
  {
   "cell_type": "markdown",
   "metadata": {},
   "source": [
    "## Exploring the limitations"
   ]
  },
  {
   "cell_type": "code",
   "execution_count": 21,
   "metadata": {},
   "outputs": [
    {
     "data": {
      "text/plain": [
       "<matplotlib.legend.Legend at 0x7f1b39aed8b0>"
      ]
     },
     "execution_count": 21,
     "metadata": {},
     "output_type": "execute_result"
    },
    {
     "data": {
      "image/png": "[encoded data removed]",
      "text/plain": [
       "<Figure size 432x288 with 1 Axes>"
      ]
     },
     "metadata": {
      "needs_background": "light"
     },
     "output_type": "display_data"
    }
   ],
   "source": [
    "# Minha func\n",
    "y = [abs(calcular_exp_neg(i, debug=False)-np.exp(-i)) for i in range(2, 50, 1)]\n",
    "plt.yscale('log')\n",
    "plt.plot(y, label='Erro')\n",
    "plt.hlines(y=1e-8, xmin=0, xmax=len(y))\n",
    "plt.legend()"
   ]
  },
  {
   "cell_type": "code",
   "execution_count": 22,
   "metadata": {},
   "outputs": [
    {
     "data": {
      "text/plain": [
       "<matplotlib.legend.Legend at 0x7f1b39b44b50>"
      ]
     },
     "execution_count": 22,
     "metadata": {},
     "output_type": "execute_result"
    },
    {
     "data": {
      "image/png": "[encoded data removed]",
      "text/plain": [
       "<Figure size 432x288 with 1 Axes>"
      ]
     },
     "metadata": {
      "needs_background": "light"
     },
     "output_type": "display_data"
    }
   ],
   "source": [
    "# Func da gabi\n",
    "y = [abs(prec(i, serie='ma')-np.exp(-i)) for i in range(2, 50, 1)]\n",
    "plt.yscale('log')\n",
    "plt.plot(y, label='Erro')\n",
    "#plt.hlines(y=1e-8, xmin=0, xmax=len(y))\n",
    "plt.legend()"
   ]
  },
  {
   "cell_type": "code",
   "execution_count": 23,
   "metadata": {},
   "outputs": [
    {
     "data": {
      "text/plain": [
       "<matplotlib.legend.Legend at 0x7f1b397b29a0>"
      ]
     },
     "execution_count": 23,
     "metadata": {},
     "output_type": "execute_result"
    },
    {
     "data": {
      "image/png": "[encoded data removed]",
      "text/plain": [
       "<Figure size 432x288 with 1 Axes>"
      ]
     },
     "metadata": {
      "needs_background": "light"
     },
     "output_type": "display_data"
    }
   ],
   "source": [
    "# Func da gabi\n",
    "y = [abs(prec(i, serie='boa')-np.exp(-i)) for i in range(2, 50, 1)]\n",
    "plt.yscale('log')\n",
    "plt.plot(y, label='Erro')\n",
    "plt.hlines(y=1e-8, xmin=0, xmax=len(y))\n",
    "plt.legend()"
   ]
  },
  {
   "cell_type": "markdown",
   "metadata": {},
   "source": [
    "## **Ex 8**"
   ]
  },
  {
   "cell_type": "code",
   "execution_count": 24,
   "metadata": {},
   "outputs": [],
   "source": [
    "import numpy as np\n",
    "import math\n",
    "from numpy import exp, pi, sqrt\n",
    "import matplotlib.pyplot as plt"
   ]
  },
  {
   "cell_type": "code",
   "execution_count": 25,
   "metadata": {},
   "outputs": [],
   "source": [
    "def t(x):\n",
    "    return exp(-pi * x)\n",
    "\n",
    "def f_y1(x):\n",
    "    return (1-sqrt(1-(t(x)**2)))/(t(x))\n",
    "\n",
    "def f_y2(x):\n",
    "    return (t(x)) / (1 + sqrt(1-(t(x)**2)))"
   ]
  },
  {
   "cell_type": "code",
   "execution_count": 26,
   "metadata": {},
   "outputs": [
    {
     "data": {
      "text/plain": [
       "<matplotlib.legend.Legend at 0x7f1b398f3af0>"
      ]
     },
     "execution_count": 26,
     "metadata": {},
     "output_type": "execute_result"
    },
    {
     "data": {
      "image/png": "[encoded data removed]",
      "text/plain": [
       "<Figure size 432x288 with 1 Axes>"
      ]
     },
     "metadata": {
      "needs_background": "light"
     },
     "output_type": "display_data"
    }
   ],
   "source": [
    "x = np.linspace(5,6.5, num=100)\n",
    "plt.plot(x, f_y1(x), label='y1')\n",
    "plt.plot(x, f_y2(x), label='y2')\n",
    "\"\"\" plt.yscale('log')\n",
    "plt.xscale('log') \"\"\"\n",
    "plt.legend()\n",
    "\n",
    "\n",
    "# ISTO TA MAL, VER MELHOR"
   ]
  },
  {
   "cell_type": "markdown",
   "metadata": {},
   "source": [
    "Como a precisão do nosso computador não consegue ir além de 1e-16, o que acontece é que para x=6, para y1, tentamos subtrair a 1 um numero na ordem de 1e-17 (4.241151183016084e-17).\n",
    "\n",
    "O que acontece nesse caso é que o resultado da subtração será 1 e então a parte superior da fração será 0."
   ]
  },
  {
   "cell_type": "markdown",
   "metadata": {},
   "source": []
  },
  {
   "cell_type": "markdown",
   "metadata": {},
   "source": [
    "## **Ex 9**"
   ]
  },
  {
   "cell_type": "code",
   "execution_count": 27,
   "metadata": {},
   "outputs": [],
   "source": [
    "import numpy as np\n",
    "import math\n",
    "from math import exp, pi, sqrt"
   ]
  },
  {
   "cell_type": "code",
   "execution_count": 28,
   "metadata": {},
   "outputs": [],
   "source": [
    "def Sup(N, n=1):\n",
    "    #assert N >= 1, \"Out of range\"\n",
    "\n",
    "    if N < 1:\n",
    "        return 0\n",
    "\n",
    "    elif n == N:\n",
    "        return 1/n\n",
    "    \n",
    "    else:\n",
    "        return (1/n) + Sup(N, n=n+1)\n",
    "\n",
    "def Sdown(N):\n",
    "    #assert N <= 1, \"Out of range\"\n",
    "    if N < 1:\n",
    "        return 0\n",
    "    elif N == 1 or N == 0:\n",
    "        return 1\n",
    "    else:\n",
    "        return (1/N) + Sdown(N-1)"
   ]
  },
  {
   "cell_type": "code",
   "execution_count": 29,
   "metadata": {},
   "outputs": [
    {
     "data": {
      "text/plain": [
       "<matplotlib.legend.Legend at 0x7f1b39745d60>"
      ]
     },
     "execution_count": 29,
     "metadata": {},
     "output_type": "execute_result"
    },
    {
     "data": {
      "image/png": "[encoded data removed]",
      "text/plain": [
       "<Figure size 432x288 with 1 Axes>"
      ]
     },
     "metadata": {
      "needs_background": "light"
     },
     "output_type": "display_data"
    }
   ],
   "source": [
    "x = [x for x in range(0, int(1e3), 1)]\n",
    "y1 = [Sup(i) for i in x]\n",
    "y2 = [Sdown(i) for i in x]\n",
    "\n",
    "plt.plot(x, y1, label='Sup')\n",
    "plt.plot(x, y2, label='Sdown')\n",
    "plt.legend()"
   ]
  },
  {
   "cell_type": "code",
   "execution_count": 30,
   "metadata": {},
   "outputs": [
    {
     "name": "stderr",
     "output_type": "stream",
     "text": [
      "No handles with labels found to put in legend.\n"
     ]
    },
    {
     "data": {
      "text/plain": [
       "<matplotlib.legend.Legend at 0x7f1b397a6370>"
      ]
     },
     "execution_count": 30,
     "metadata": {},
     "output_type": "execute_result"
    },
    {
     "data": {
      "image/png": "[encoded data removed]",
      "text/plain": [
       "<Figure size 432x288 with 1 Axes>"
      ]
     },
     "metadata": {
      "needs_background": "light"
     },
     "output_type": "display_data"
    }
   ],
   "source": [
    "y = [abs(Sup(i) - Sdown(i)) for i in x]\n",
    "\n",
    "\n",
    "plt.plot(x, y)\n",
    "plt.legend()"
   ]
  },
  {
   "cell_type": "code",
   "execution_count": 31,
   "metadata": {},
   "outputs": [
    {
     "name": "stderr",
     "output_type": "stream",
     "text": [
      "No handles with labels found to put in legend.\n"
     ]
    },
    {
     "data": {
      "image/png": "[encoded data removed]",
      "text/plain": [
       "<Figure size 432x288 with 1 Axes>"
      ]
     },
     "metadata": {
      "needs_background": "light"
     },
     "output_type": "display_data"
    }
   ],
   "source": [
    "y = [abs(Sup(i) - Sdown(i)) for i in x]\n",
    "\n",
    "\n",
    "plt.plot(x, y)\n",
    "plt.legend()\n",
    "plt.yscale('log')"
   ]
  },
  {
   "cell_type": "markdown",
   "metadata": {},
   "source": [
    "## **Ex 10**"
   ]
  },
  {
   "cell_type": "code",
   "execution_count": 32,
   "metadata": {},
   "outputs": [],
   "source": [
    "from numpy import sqrt\n",
    "\n",
    "def compativeis(x, dx, y, dy):\n",
    "\n",
    "    diff = x-y\n",
    "    # Prop error\n",
    "    ddiff = sqrt(dx**2+dy**2)\n",
    "\n",
    "    iszero = False\n",
    "    if (abs(diff)- ddiff) < 0:\n",
    "        iszero = True\n",
    "\n",
    "    return iszero"
   ]
  },
  {
   "cell_type": "code",
   "execution_count": 33,
   "metadata": {},
   "outputs": [
    {
     "data": {
      "text/plain": [
       "True"
      ]
     },
     "execution_count": 33,
     "metadata": {},
     "output_type": "execute_result"
    }
   ],
   "source": [
    "compativeis(1.23, 0.02, 1.28, 0.05)"
   ]
  },
  {
   "cell_type": "code",
   "execution_count": 34,
   "metadata": {},
   "outputs": [
    {
     "data": {
      "text/plain": [
       "False"
      ]
     },
     "execution_count": 34,
     "metadata": {},
     "output_type": "execute_result"
    }
   ],
   "source": [
    "compativeis(1.23, 0.02, 1.28, 0.02)"
   ]
  },
  {
   "cell_type": "markdown",
   "metadata": {},
   "source": [
    "## **Ex 11**"
   ]
  },
  {
   "cell_type": "code",
   "execution_count": 59,
   "metadata": {},
   "outputs": [],
   "source": [
    "from numpy.random import normal"
   ]
  },
  {
   "cell_type": "code",
   "execution_count": 90,
   "metadata": {},
   "outputs": [
    {
     "name": "stdout",
     "output_type": "stream",
     "text": [
      "Dist 1: -0.01715904062701095 +- 0.994729240710618\n",
      "Dist 2: 0.0017445538751527038 +- 0.9965746659074999\n"
     ]
    },
    {
     "data": {
      "image/png": "[encoded data removed]",
      "text/plain": [
       "<Figure size 432x288 with 1 Axes>"
      ]
     },
     "metadata": {
      "needs_background": "light"
     },
     "output_type": "display_data"
    }
   ],
   "source": [
    "# Distribuição normal\n",
    "N = 10000\n",
    "mean=0\n",
    "std = 1\n",
    "\n",
    "# Outra Distribuição normal\n",
    "dist1 = normal(mean, std, size=N)\n",
    "plt.hist(dist1,bins=16, alpha=0.5, histtype=u'step', linewidth=2, density=True)\n",
    "print(f\"Dist 1: {dist1.mean()} +- {dist1.std()}\")\n",
    "\n",
    "dist2 = normal(mean, std, size=N)\n",
    "plt.hist(dist2,bins=16, alpha=0.5, histtype=u'step', linewidth=2, density=True)\n",
    "print(f\"Dist 2: {dist2.mean()} +- {dist2.std()}\")"
   ]
  },
  {
   "cell_type": "code",
   "execution_count": 91,
   "metadata": {},
   "outputs": [
    {
     "name": "stdout",
     "output_type": "stream",
     "text": [
      ">> SOMA para {N} pontos\n",
      "Esperado: -0.015414486751858247 +- 1.40806510043157\n",
      "Obtido:   -0.015414486751858242 +- 1.408424870375201\n"
     ]
    },
    {
     "data": {
      "image/png": "[encoded data removed]",
      "text/plain": [
       "<Figure size 432x288 with 1 Axes>"
      ]
     },
     "metadata": {
      "needs_background": "light"
     },
     "output_type": "display_data"
    }
   ],
   "source": [
    "# Soma das duas\n",
    "dist3 = dist1 + dist2\n",
    "plt.hist(dist3,bins=16, alpha=0.5, histtype=u'step', linewidth=2, density=True)\n",
    "print(\">> SOMA para {N} pontos\")\n",
    "print(f\"Esperado: {dist1.mean()+dist2.mean()} +- {sqrt(dist1.std()**2 + dist2.std()**2)}\")\n",
    "print(f\"Obtido:   {dist3.mean()} +- {dist3.std()}\")"
   ]
  },
  {
   "cell_type": "code",
   "execution_count": 95,
   "metadata": {},
   "outputs": [
    {
     "name": "stdout",
     "output_type": "stream",
     "text": [
      ">> MULT para {N} pontos\n",
      "Esperado: -2.9934870819754636e-05 +- 575.1588435410838\n",
      "Obtido:   0.0004767093481972093 +- 0.9883198079911444\n"
     ]
    },
    {
     "data": {
      "image/png": "[encoded data removed]",
      "text/plain": [
       "<Figure size 432x288 with 1 Axes>"
      ]
     },
     "metadata": {
      "needs_background": "light"
     },
     "output_type": "display_data"
    }
   ],
   "source": [
    "# Multiplicação das duas TODO\n",
    "dist4 = dist1 * dist2\n",
    "plt.hist(dist4,bins=16, alpha=0.5, histtype=u'step', linewidth=2, density=True)\n",
    "print(\">> MULT para {N} pontos\")\n",
    "print(f\"Esperado: {dist1.mean()*dist2.mean()} +- {sqrt((dist1.std()/dist1.mean())**2+(dist2.std()/dist2.mean()**2))}\")\n",
    "print(f\"Obtido:   {dist4.mean()} +- {dist4.std()}\")"
   ]
  },
  {
   "cell_type": "code",
   "execution_count": 36,
   "metadata": {},
   "outputs": [
    {
     "data": {
      "text/plain": [
       "-1.924536730172693"
      ]
     },
     "execution_count": 36,
     "metadata": {},
     "output_type": "execute_result"
    }
   ],
   "source": [
    "normal()"
   ]
  },
  {
   "cell_type": "markdown",
   "metadata": {},
   "source": [
    "## **Ex 12**"
   ]
  },
  {
   "cell_type": "code",
   "execution_count": 106,
   "metadata": {},
   "outputs": [],
   "source": [
    "import math"
   ]
  },
  {
   "cell_type": "code",
   "execution_count": 107,
   "metadata": {},
   "outputs": [],
   "source": [
    "def ordem_grandeza(valor):\n",
    "    return math.floor(math.log10(valor))"
   ]
  },
  {
   "cell_type": "code",
   "execution_count": 108,
   "metadata": {},
   "outputs": [],
   "source": [
    "def notação_normal(x, dx):\n",
    "    # Colocar apenas 1 a. s no erro\n",
    "    dx = float('%.1g' % dx)\n",
    "    # Colocar os a. s de x na mesma o.g de dx\n",
    "    x = float(f'%.{-ordem_grandeza(dx)}f' % x)\n",
    "    print(f\"{x} +- {dx}\")"
   ]
  },
  {
   "cell_type": "code",
   "execution_count": 109,
   "metadata": {},
   "outputs": [],
   "source": [
    "def notação_cientifica(x, dx):\n",
    "    grandeza = ordem_grandeza(x)\n",
    "    x = x / (10**grandeza)\n",
    "    dx = dx / (10**grandeza)\n",
    "    # Colocar apenas 1 a. s no erro\n",
    "    dx = float('%.1g' % dx)\n",
    "    # Colocar os a. s de x na mesma o.g de dx\n",
    "    x = float(f'%.{-ordem_grandeza(dx)}f' % x)\n",
    "\n",
    "    print(f\"({x} +- {dx})*10^{grandeza}\")"
   ]
  },
  {
   "cell_type": "code",
   "execution_count": 110,
   "metadata": {},
   "outputs": [],
   "source": [
    "def ex12(x, dx):\n",
    "    # Colocar apenas 1 a. s no erro\n",
    "    dx = float('%.1g' % dx)\n",
    "\n",
    "\n",
    "    # Notação cientifica\n",
    "    if abs(x) <= 0.001 or abs(x) >= 0.001:\n",
    "        notação_cientifica(x, dx)\n",
    "    # Notação normal\n",
    "    else:\n",
    "        notação_normal(x, dx)"
   ]
  },
  {
   "cell_type": "code",
   "execution_count": 111,
   "metadata": {},
   "outputs": [
    {
     "name": "stdout",
     "output_type": "stream",
     "text": [
      "(4.56789 +- 1e-05)*10^5\n"
     ]
    }
   ],
   "source": [
    "ex12(456789.345, 1.342)"
   ]
  },
  {
   "cell_type": "code",
   "execution_count": 112,
   "metadata": {},
   "outputs": [
    {
     "name": "stdout",
     "output_type": "stream",
     "text": [
      "(1.0 +- 0.01)*10^-3\n"
     ]
    }
   ],
   "source": [
    "ex12(0.001, 0.00001)"
   ]
  },
  {
   "cell_type": "code",
   "execution_count": null,
   "metadata": {},
   "outputs": [],
   "source": []
  }
 ],
 "metadata": {
  "interpreter": {
   "hash": "e7370f93d1d0cde622a1f8e1c04877d8463912d04d973331ad4851f04de6915a"
  },
  "kernelspec": {
   "display_name": "Python 3.8.10 64-bit",
   "name": "python3"
  },
  "language_info": {
   "codemirror_mode": {
    "name": "ipython",
    "version": 3
   },
   "file_extension": ".py",
   "mimetype": "text/x-python",
   "name": "python",
   "nbconvert_exporter": "python",
   "pygments_lexer": "ipython3",
   "version": "3.8.10"
  },
  "orig_nbformat": 4
 },
 "nbformat": 4,
 "nbformat_minor": 2
}
